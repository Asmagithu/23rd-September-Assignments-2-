{
 "cells": [
  {
   "cell_type": "code",
   "execution_count": 1,
   "id": "f4d2dd3c",
   "metadata": {},
   "outputs": [
    {
     "name": "stdout",
     "output_type": "stream",
     "text": [
      "Tuple = ()\n"
     ]
    }
   ],
   "source": [
    "# Create an empty tuple\n",
    "my_tuple = ()\n",
    "\n",
    "# Display the tuple\n",
    "print(\"Tuple =\", my_tuple)\n"
   ]
  },
  {
   "cell_type": "code",
   "execution_count": 2,
   "id": "785b67d8",
   "metadata": {},
   "outputs": [
    {
     "name": "stdout",
     "output_type": "stream",
     "text": [
      "('Tutor Joes', True, 'T', 3.21, 10)\n"
     ]
    }
   ],
   "source": [
    "# Create a tuple with different data types\n",
    "my_tuple = ('Tutor Joes', True, 'T', 3.21, 10)\n",
    "\n",
    "# Display the tuple\n",
    "print(my_tuple)"
   ]
  },
  {
   "cell_type": "code",
   "execution_count": 3,
   "id": "db6c63ab",
   "metadata": {},
   "outputs": [
    {
     "name": "stdout",
     "output_type": "stream",
     "text": [
      "10\n",
      "Type = <class 'tuple'>\n"
     ]
    }
   ],
   "source": [
    "# Create a tuple with numbers\n",
    "my_tuple = (5, 10, 15, 20)\n",
    "\n",
    "# Print one item from the tuple\n",
    "item_to_print = my_tuple[1]  # Index 1 corresponds to the second item (10)\n",
    "\n",
    "# Display the item\n",
    "print(item_to_print)\n",
    "\n",
    "# Display the type of the tuple\n",
    "print(\"Type =\", type(my_tuple))\n"
   ]
  },
  {
   "cell_type": "code",
   "execution_count": 4,
   "id": "670ade87",
   "metadata": {},
   "outputs": [
    {
     "name": "stdout",
     "output_type": "stream",
     "text": [
      "a = 4 8 3\n",
      "(4, 8, 3)\n"
     ]
    }
   ],
   "source": [
    "# Create a tuple\n",
    "my_tuple = (4, 8, 3)\n",
    "\n",
    "# Unpack the tuple into separate variables\n",
    "a, b, c = my_tuple\n",
    "\n",
    "# Display the variables\n",
    "print(\"a =\", a, b, c)\n",
    "\n",
    "# Display the original tuple\n",
    "print(my_tuple)\n"
   ]
  },
  {
   "cell_type": "code",
   "execution_count": 5,
   "id": "5006e0b8",
   "metadata": {},
   "outputs": [
    {
     "name": "stdout",
     "output_type": "stream",
     "text": [
      "(10, 40, 50, 70, 90, 20)\n",
      "add items in list = 20\n",
      "(10, 40, 50, 70, 90)\n"
     ]
    }
   ],
   "source": [
    "# Create a tuple\n",
    "my_tuple = (10, 40, 50, 70, 90)\n",
    "\n",
    "# Create a new tuple by adding an item\n",
    "item_to_add = 20\n",
    "new_tuple = my_tuple + (item_to_add,)\n",
    "\n",
    "# Display the new tuple\n",
    "print(new_tuple)\n",
    "\n",
    "# Display the original tuple\n",
    "print(\"add items in list =\", item_to_add)\n",
    "print(my_tuple)\n"
   ]
  },
  {
   "cell_type": "code",
   "execution_count": 6,
   "id": "e4414a6c",
   "metadata": {},
   "outputs": [
    {
     "name": "stdout",
     "output_type": "stream",
     "text": [
      "('T', 'u', 't', 'o', 'r', ' ', 'J', 'o', 'e', 's')\n",
      "Tutor Joes\n"
     ]
    }
   ],
   "source": [
    "# Create a tuple of characters\n",
    "char_tuple = ('T', 'u', 't', 'o', 'r', ' ', 'J', 'o', 'e', 's')\n",
    "\n",
    "# Convert the tuple to a string\n",
    "char_string = ''.join(char_tuple)\n",
    "\n",
    "# Display the tuple\n",
    "print(char_tuple)\n",
    "\n",
    "# Display the string\n",
    "print(char_string)\n"
   ]
  },
  {
   "cell_type": "code",
   "execution_count": 7,
   "id": "c01bf36d",
   "metadata": {},
   "outputs": [
    {
     "name": "stdout",
     "output_type": "stream",
     "text": [
      "('w', 3, 'r', 'e', 's', 'o', 'u', 'r', 'c', 'e')\n",
      "4th Element From Tuple: e\n",
      "4th Element From Last Tuple: u\n"
     ]
    }
   ],
   "source": [
    "# Create a tuple\n",
    "my_tuple = ('w', 3, 'r', 'e', 's', 'o', 'u', 'r', 'c', 'e')\n",
    "\n",
    "# Get the 4th element from the tuple (indexing starts from 0)\n",
    "fourth_element = my_tuple[3]\n",
    "\n",
    "# Get the 4th element from the end of the tuple\n",
    "fourth_from_last = my_tuple[-4]\n",
    "\n",
    "# Display the original tuple\n",
    "print(my_tuple)\n",
    "\n",
    "# Display the 4th element\n",
    "print(\"4th Element From Tuple:\", fourth_element)\n",
    "\n",
    "# Display the 4th element from the end\n",
    "print(\"4th Element From Last Tuple:\", fourth_from_last)\n"
   ]
  },
  {
   "cell_type": "code",
   "execution_count": 8,
   "id": "35a9229b",
   "metadata": {},
   "outputs": [
    {
     "name": "stdout",
     "output_type": "stream",
     "text": [
      "('Tutor', 'J', 23, 56.67, [23, 12], True)\n",
      "Copy = ('Tutor', 'J', 23, 56.67, [23, 12], True)\n"
     ]
    }
   ],
   "source": [
    "# Create a tuple\n",
    "original_tuple = (\"Tutor\", 'J', 23, 56.67, [23, 12], True)\n",
    "\n",
    "# Create a copy of the tuple using the tuple() constructor\n",
    "copied_tuple = tuple(original_tuple)\n",
    "\n",
    "# Display the original tuple\n",
    "print(original_tuple)\n",
    "\n",
    "# Display the copied tuple\n",
    "print(\"Copy =\", copied_tuple)\n"
   ]
  },
  {
   "cell_type": "code",
   "execution_count": 9,
   "id": "fb8af5a8",
   "metadata": {},
   "outputs": [
    {
     "name": "stdout",
     "output_type": "stream",
     "text": [
      "(2, 34, 45, 6, 7, 2, 4, 5, 78, 34, 2)\n",
      "Item = 2\n",
      "Repeated items of a tuple = 2\n"
     ]
    }
   ],
   "source": [
    "# Create a tuple\n",
    "my_tuple = (2, 34, 45, 6, 7, 2, 4, 5, 78, 34, 2)\n",
    "\n",
    "# Create a dictionary to count the occurrences of each item\n",
    "item_counts = {}\n",
    "repeated_items = []\n",
    "\n",
    "# Count the occurrences of items in the tuple\n",
    "for item in my_tuple:\n",
    "    if item in item_counts:\n",
    "        item_counts[item] += 1\n",
    "    else:\n",
    "        item_counts[item] = 1\n",
    "\n",
    "# Find and print the repeated items\n",
    "for item, count in item_counts.items():\n",
    "    if count > 1:\n",
    "        repeated_items.append(item)\n",
    "\n",
    "# Display the original tuple\n",
    "print(my_tuple)\n",
    "\n",
    "# Display the first repeated item\n",
    "if repeated_items:\n",
    "    print(\"Item =\", repeated_items[0])\n",
    "\n",
    "# Display the count of repeated items\n",
    "print(\"Repeated items of a tuple =\", len(repeated_items))\n"
   ]
  },
  {
   "cell_type": "code",
   "execution_count": 10,
   "id": "718c81fe",
   "metadata": {},
   "outputs": [
    {
     "name": "stdout",
     "output_type": "stream",
     "text": [
      "('T', 'u', 't', 'o', 'r', ' ', 'J', 'o', 'e', 's', 8)\n",
      "8 in Tuple = True\n",
      "'x' in Tuple = False\n"
     ]
    }
   ],
   "source": [
    "# Create a tuple\n",
    "my_tuple = ('T', 'u', 't', 'o', 'r', ' ', 'J', 'o', 'e', 's', 8)\n",
    "\n",
    "# Check if '8' exists in the tuple\n",
    "element1 = 8 in my_tuple\n",
    "\n",
    "# Check if 'x' exists in the tuple\n",
    "element2 = 'x' in my_tuple\n",
    "\n",
    "# Display the original tuple\n",
    "print(my_tuple)\n",
    "\n",
    "# Display the result of the existence checks\n",
    "print(\"8 in Tuple =\", element1)\n",
    "print(\"'x' in Tuple =\", element2)\n"
   ]
  },
  {
   "cell_type": "code",
   "execution_count": 11,
   "id": "d0bc3f5e",
   "metadata": {},
   "outputs": [
    {
     "name": "stdout",
     "output_type": "stream",
     "text": [
      "[12, 45, 87, 54, 89, 4]\n",
      "(12, 45, 87, 54, 89, 4)\n"
     ]
    }
   ],
   "source": [
    "# Create a list\n",
    "my_list = [12, 45, 87, 54, 89, 4]\n",
    "\n",
    "# Convert the list to a tuple\n",
    "my_tuple = tuple(my_list)\n",
    "\n",
    "# Display the original list\n",
    "print(my_list)\n",
    "\n",
    "# Display the converted tuple\n",
    "print(my_tuple)\n"
   ]
  },
  {
   "cell_type": "code",
   "execution_count": 12,
   "id": "c34b4dac",
   "metadata": {},
   "outputs": [
    {
     "name": "stdout",
     "output_type": "stream",
     "text": [
      "(23, 45, 56, 68, 10, 45, 7, 9)\n",
      "Remove = 56\n",
      "(23, 45, 68, 10, 45, 7, 9)\n"
     ]
    }
   ],
   "source": [
    "# Create a tuple\n",
    "my_tuple = (23, 45, 56, 68, 10, 45, 7, 9)\n",
    "\n",
    "# Specify the item to remove\n",
    "item_to_remove = 56\n",
    "\n",
    "# Create a new tuple without the specified item\n",
    "new_tuple = tuple(item for item in my_tuple if item != item_to_remove)\n",
    "\n",
    "# Display the original tuple\n",
    "print(my_tuple)\n",
    "\n",
    "# Display the item to remove\n",
    "print(\"Remove =\", item_to_remove)\n",
    "\n",
    "# Display the new tuple without the specified item\n",
    "print(new_tuple)\n"
   ]
  },
  {
   "cell_type": "code",
   "execution_count": 13,
   "id": "2b6be227",
   "metadata": {},
   "outputs": [
    {
     "name": "stdout",
     "output_type": "stream",
     "text": [
      "(10, 20, 30, 40, 50, 60, 70, 80, 90, 100)\n",
      "(40, 50, 60, 70, 80)\n"
     ]
    }
   ],
   "source": [
    "# Create a tuple\n",
    "my_tuple = (10, 20, 30, 40, 50, 60, 70, 80, 90, 100)\n",
    "\n",
    "# Slice the tuple to get a subset\n",
    "subset_tuple = my_tuple[3:8]\n",
    "\n",
    "# Display the original tuple\n",
    "print(my_tuple)\n",
    "\n",
    "# Display the sliced subset\n",
    "print(subset_tuple)\n"
   ]
  },
  {
   "cell_type": "code",
   "execution_count": 15,
   "id": "16a39a8a",
   "metadata": {},
   "outputs": [
    {
     "name": "stdout",
     "output_type": "stream",
     "text": [
      "(23, 45, 67, 78, 89, 90, 34, 56)\n",
      "Item = 78\n",
      "Index Number: 3\n"
     ]
    }
   ],
   "source": [
    "# Create a tuple\n",
    "my_tuple = (23, 45, 67, 78, 89, 90, 34, 56)\n",
    "\n",
    "# Specify the item to find\n",
    "item_to_find = 78\n",
    "\n",
    "# Find the index of the item\n",
    "index_number = my_tuple.index(item_to_find)\n",
    "\n",
    "# Display the original tuple\n",
    "print(my_tuple)\n",
    "\n",
    "# Display the item to find\n",
    "print(\"Item =\", item_to_find)\n",
    "\n",
    "# Display the index number of the item\n",
    "print(\"Index Number:\", index_number)\n"
   ]
  },
  {
   "cell_type": "code",
   "execution_count": 16,
   "id": "bc2a1292",
   "metadata": {},
   "outputs": [
    {
     "name": "stdout",
     "output_type": "stream",
     "text": [
      "('Lion', 'Cat', 'Dog', 'Panda', 'Tiger', 'Fox')\n",
      "Length: 6\n"
     ]
    }
   ],
   "source": [
    "# Create a tuple\n",
    "my_tuple = (\"Lion\", \"Cat\", \"Dog\", \"Panda\", \"Tiger\", \"Fox\")\n",
    "\n",
    "# Find the length of the tuple\n",
    "length = len(my_tuple)\n",
    "\n",
    "# Display the original tuple\n",
    "print(my_tuple)\n",
    "\n",
    "# Display the length of the tuple\n",
    "print(\"Length:\", length)\n"
   ]
  },
  {
   "cell_type": "code",
   "execution_count": 17,
   "id": "de479282",
   "metadata": {},
   "outputs": [
    {
     "name": "stdout",
     "output_type": "stream",
     "text": [
      "(('Name', 'Ram'), ('Age', 23), ('City', 'Salem'), ('Mark', 422))\n",
      "{'Name': 'Ram', 'Age': 23, 'City': 'Salem', 'Mark': 422}\n"
     ]
    }
   ],
   "source": [
    "# Create a tuple of key-value pairs\n",
    "tuple_of_pairs = ((\"Name\", \"Ram\"), (\"Age\", 23), (\"City\", \"Salem\"), (\"Mark\", 422))\n",
    "\n",
    "# Convert the tuple to a dictionary using a dictionary comprehension\n",
    "my_dict = {key: value for key, value in tuple_of_pairs}\n",
    "\n",
    "# Display the original tuple\n",
    "print(tuple_of_pairs)\n",
    "\n",
    "# Display the converted dictionary\n",
    "print(my_dict)\n"
   ]
  },
  {
   "cell_type": "code",
   "execution_count": 18,
   "id": "a7cf5c25",
   "metadata": {},
   "outputs": [
    {
     "name": "stdout",
     "output_type": "stream",
     "text": [
      "[(10, 30), (60, 90), (20, 50)]\n",
      "[(10, 60, 20), (30, 90, 50)]\n"
     ]
    }
   ],
   "source": [
    "# Create a list of tuples\n",
    "list_of_tuples = [(10, 30), (60, 90), (20, 50)]\n",
    "\n",
    "# Unzip the list of tuples into individual lists\n",
    "unzipped_list = list(zip(*list_of_tuples))\n",
    "\n",
    "# Display the original list of tuples\n",
    "print(list_of_tuples)\n",
    "\n",
    "# Display the unzipped lists\n",
    "print(unzipped_list)\n"
   ]
  },
  {
   "cell_type": "code",
   "execution_count": 19,
   "id": "e91567d3",
   "metadata": {},
   "outputs": [
    {
     "name": "stdout",
     "output_type": "stream",
     "text": [
      "Before Reverse: (23, 45, 67, 78, 89, 90, 34, 56)\n",
      "After Reverse: (56, 34, 90, 89, 78, 67, 45, 23)\n"
     ]
    }
   ],
   "source": [
    "# Create a tuple\n",
    "my_tuple = (23, 45, 67, 78, 89, 90, 34, 56)\n",
    "\n",
    "# Reverse the tuple using slicing\n",
    "reversed_tuple = my_tuple[::-1]\n",
    "\n",
    "# Display the original tuple\n",
    "print(\"Before Reverse:\", my_tuple)\n",
    "\n",
    "# Display the reversed tuple\n",
    "print(\"After Reverse:\", reversed_tuple)\n"
   ]
  },
  {
   "cell_type": "code",
   "execution_count": 20,
   "id": "0f5f0ce7",
   "metadata": {},
   "outputs": [
    {
     "name": "stdout",
     "output_type": "stream",
     "text": [
      "[('Name', 'Ram'), ('Name', 'Pooja'), ('Age', 21), ('Gender', 'Male'), ('Age', 23), ('Gender', 'Female')]\n",
      "{'Name': ['Ram', 'Pooja'], 'Age': [21, 23], 'Gender': ['Male', 'Female']}\n"
     ]
    }
   ],
   "source": [
    "# Create a list of tuples\n",
    "list_of_tuples = [\n",
    "    (\"Name\", \"Ram\"),\n",
    "    (\"Name\", \"Pooja\"),\n",
    "    (\"Age\", 21),\n",
    "    (\"Gender\", \"Male\"),\n",
    "    (\"Age\", 23),\n",
    "    (\"Gender\", \"Female\")\n",
    "]\n",
    "\n",
    "# Create an empty dictionary to store the converted data\n",
    "result_dict = {}\n",
    "\n",
    "# Convert the list of tuples into a dictionary\n",
    "for key, value in list_of_tuples:\n",
    "    if key not in result_dict:\n",
    "        result_dict[key] = [value]\n",
    "    else:\n",
    "        result_dict[key].append(value)\n",
    "\n",
    "# Display the original list of tuples\n",
    "print(list_of_tuples)\n",
    "\n",
    "# Display the converted dictionary\n",
    "print(result_dict)\n"
   ]
  },
  {
   "cell_type": "code",
   "execution_count": 37,
   "id": "04a5c4f2",
   "metadata": {},
   "outputs": [
    {
     "name": "stdout",
     "output_type": "stream",
     "text": [
      "Fruits ('watermelons', 'strawberries', 'mangoes', 'bananas', 'grapefruits', 'oranges', 'apples', 'pears')\n"
     ]
    }
   ],
   "source": [
    "\n",
    "# Create a tuple\n",
    "fruits_tuple = (\"watermelons\", \"strawberries\", \"mangoes\", \"bananas\", \"grapefruits\", \"oranges\", \"apples\", \"pears\")\n",
    "\n",
    "# Display the tuple with string formatting using an f-string\n",
    "print(f'Fruits {fruits_tuple}')\n"
   ]
  },
  {
   "cell_type": "code",
   "execution_count": 38,
   "id": "666fe93d",
   "metadata": {},
   "outputs": [
    {
     "name": "stdout",
     "output_type": "stream",
     "text": [
      "Create a tuple with Item = (23,)\n",
      "Type = <class 'tuple'>\n"
     ]
    }
   ],
   "source": [
    "# Create a tuple with a single item\n",
    "my_tuple = (23,)\n",
    "\n",
    "# Display the tuple with item\n",
    "print(\"Create a tuple with Item =\", my_tuple)\n",
    "\n",
    "# Display the type of the variable\n",
    "print(\"Type =\", type(my_tuple))\n"
   ]
  },
  {
   "cell_type": "code",
   "execution_count": 39,
   "id": "40c7a10e",
   "metadata": {},
   "outputs": [
    {
     "name": "stdout",
     "output_type": "stream",
     "text": [
      "Tuple = (11, 22, 333, 44, 55)\n",
      "11\n",
      "22\n",
      "333\n",
      "44\n",
      "55\n"
     ]
    }
   ],
   "source": [
    "# Create a tuple\n",
    "my_tuple = (11, 22, 333, 44, 55)\n",
    "\n",
    "# Unpack the tuple into five variables\n",
    "var1, var2, var3, var4, var5 = my_tuple\n",
    "\n",
    "# Display the original tuple\n",
    "print(\"Tuple =\", my_tuple)\n",
    "\n",
    "# Display the unpacked variables\n",
    "print(var1)\n",
    "print(var2)\n",
    "print(var3)\n",
    "print(var4)\n",
    "print(var5)\n"
   ]
  },
  {
   "cell_type": "code",
   "execution_count": 40,
   "id": "0b073cd8",
   "metadata": {},
   "outputs": [
    {
     "name": "stdout",
     "output_type": "stream",
     "text": [
      "Before Swap A: 10\n",
      "Before Swap B: 20\n",
      "After Swap A: 20\n",
      "After Swap B: 10\n"
     ]
    }
   ],
   "source": [
    "# Define two tuples A and B\n",
    "A = (10,)\n",
    "B = (20,)\n",
    "\n",
    "# Display the original tuples\n",
    "print(\"Before Swap A:\", A[0])\n",
    "print(\"Before Swap B:\", B[0])\n",
    "\n",
    "# Swap the tuples using tuple unpacking\n",
    "A, B = B, A\n",
    "\n",
    "# Display the swapped tuples\n",
    "print(\"After Swap A:\", A[0])\n",
    "print(\"After Swap B:\", B[0])\n"
   ]
  },
  {
   "cell_type": "code",
   "execution_count": 41,
   "id": "cb4214d4",
   "metadata": {},
   "outputs": [
    {
     "name": "stdout",
     "output_type": "stream",
     "text": [
      "(10, 20, 30, 40, 50, 60, 70, 80, 90, 100)\n",
      "(30, 40, 50, 60, 70, 80)\n"
     ]
    }
   ],
   "source": [
    "# Create the original tuple\n",
    "original_tuple = (10, 20, 30, 40, 50, 60, 70, 80, 90, 100)\n",
    "\n",
    "# Define the indices of the elements you want to copy\n",
    "start_index = 2  # Inclusive\n",
    "end_index = 8    # Exclusive\n",
    "\n",
    "# Create a new tuple by copying specific elements\n",
    "new_tuple = original_tuple[start_index:end_index]\n",
    "\n",
    "# Display the original and new tuples\n",
    "print(original_tuple)\n",
    "print(new_tuple)\n"
   ]
  },
  {
   "cell_type": "code",
   "execution_count": 43,
   "id": "477a231a",
   "metadata": {},
   "outputs": [
    {
     "name": "stdout",
     "output_type": "stream",
     "text": [
      "(10, 20, 30, 40, 50)\n",
      "(10, 20, 33, 40, 50)\n"
     ]
    }
   ],
   "source": [
    "# Create the original tuple\n",
    "original_tuple = (10, 20, 30, 40, 50)\n",
    "\n",
    "# Display the original tuple\n",
    "print(original_tuple)\n",
    "\n",
    "# Convert the tuple to a list to make modifications\n",
    "list_version = list(original_tuple)\n",
    "\n",
    "# Modify the list as needed\n",
    "list_version[2] = 33  # Change the third element to 33\n",
    "\n",
    "# Convert the list back to a tuple\n",
    "modified_tuple = tuple(list_version)\n",
    "\n",
    "# Display the modified tuple\n",
    "print(modified_tuple)\n"
   ]
  },
  {
   "cell_type": "code",
   "execution_count": 44,
   "id": "b2ac3f84",
   "metadata": {},
   "outputs": [
    {
     "name": "stdout",
     "output_type": "stream",
     "text": [
      "(('a', 53), ('b', 37), ('c', 23), ('d', 1), ('e', 18))\n",
      "(('d', 1), ('e', 18), ('c', 23), ('b', 37), ('a', 53))\n"
     ]
    }
   ],
   "source": [
    "# Create the original tuple of tuples\n",
    "original_tuple = (('a', 53), ('b', 37), ('c', 23), ('d', 1), ('e', 18))\n",
    "\n",
    "# Display the original tuple\n",
    "print(original_tuple)\n",
    "\n",
    "# Sort the tuple of tuples by the second item of each inner tuple\n",
    "sorted_tuple = tuple(sorted(original_tuple, key=lambda x: x[1]))\n",
    "\n",
    "# Display the sorted tuple\n",
    "print(sorted_tuple)\n"
   ]
  },
  {
   "cell_type": "code",
   "execution_count": 45,
   "id": "c588ded9",
   "metadata": {},
   "outputs": [
    {
     "name": "stdout",
     "output_type": "stream",
     "text": [
      "(30, 50, 10, 30, 70, 50, 30)\n",
      "Number of Counts 30: 3\n"
     ]
    }
   ],
   "source": [
    "# Create the original tuple\n",
    "original_tuple = (30, 50, 10, 30, 70, 50, 30)\n",
    "\n",
    "# Display the original tuple\n",
    "print(original_tuple)\n",
    "\n",
    "# Count the number of occurrences of 30 in the tuple\n",
    "count_30 = original_tuple.count(30)\n",
    "\n",
    "# Display the count\n",
    "print(\"Number of Counts 30:\", count_30)\n"
   ]
  },
  {
   "cell_type": "code",
   "execution_count": 50,
   "id": "432a4735",
   "metadata": {},
   "outputs": [
    {
     "name": "stdout",
     "output_type": "stream",
     "text": [
      "A = (2, 5, 8)\n",
      "B = (6, 5, 1)\n",
      "C = (1, 4, 7)\n",
      "D = (3, 7, 2)\n",
      "Sum of Elements = (12, 21, 18)\n"
     ]
    }
   ],
   "source": [
    "# Sample tuples\n",
    "A = (2, 5, 8)\n",
    "B = (6, 5, 1)\n",
    "C = (1, 4, 7)\n",
    "D = (3, 7, 2)\n",
    "\n",
    "# Compute the element-wise sum\n",
    "result = tuple(sum(x) for x in zip(A, B, C, D))\n",
    "\n",
    "# Print the result\n",
    "print(\"A =\", A)\n",
    "print(\"B =\", B)\n",
    "print(\"C =\", C)\n",
    "print(\"D =\", D)\n",
    "print(\"Sum of Elements =\", result)\n"
   ]
  },
  {
   "cell_type": "code",
   "execution_count": 47,
   "id": "e7746119",
   "metadata": {},
   "outputs": [
    {
     "name": "stdout",
     "output_type": "stream",
     "text": [
      "(('Ram', '89.20'), ('Siva', '76.45'), ('Pooja', '84.40'), ('Tara', '68.43'), ('Jeeva', '91.40'))\n",
      "[('Jeeva', '91.40'), ('Ram', '89.20'), ('Pooja', '84.40'), ('Siva', '76.45'), ('Tara', '68.43')]\n"
     ]
    }
   ],
   "source": [
    "# Create the original tuple of tuples with string and float elements\n",
    "original_tuple = (\n",
    "    ('Ram', '89.20'),\n",
    "    ('Siva', '76.45'),\n",
    "    ('Pooja', '84.40'),\n",
    "    ('Tara', '68.43'),\n",
    "    ('Jeeva', '91.40')\n",
    ")\n",
    "\n",
    "# Display the original tuple\n",
    "print(original_tuple)\n",
    "\n",
    "# Sort the tuple by its float element\n",
    "sorted_tuple = sorted(original_tuple, key=lambda x: float(x[1]), reverse=True)\n",
    "\n",
    "# Display the sorted tuple\n",
    "print(sorted_tuple)\n"
   ]
  },
  {
   "cell_type": "code",
   "execution_count": 48,
   "id": "011e392f",
   "metadata": {},
   "outputs": [
    {
     "name": "stdout",
     "output_type": "stream",
     "text": [
      "[(5, 2, 3), (4, 7, 6), (8, 9, 6)]\n",
      "Replace value = 10\n",
      "[(5, 2, 10), (4, 7, 10), (8, 9, 10)]\n"
     ]
    }
   ],
   "source": [
    "# Create the original list of tuples\n",
    "original_list = [(5, 2, 3), (4, 7, 6), (8, 9, 6)]\n",
    "\n",
    "# Display the original list\n",
    "print(original_list)\n",
    "\n",
    "# Specify the value to replace with\n",
    "replace_value = 10\n",
    "\n",
    "# Replace the last value in each tuple\n",
    "updated_list = [(a, b, replace_value) for a, b, _ in original_list]\n",
    "\n",
    "# Display the updated list\n",
    "print(\"Replace value =\", replace_value)\n",
    "print(updated_list)\n"
   ]
  },
  {
   "cell_type": "code",
   "execution_count": 52,
   "id": "4c0fcde4",
   "metadata": {},
   "outputs": [
    {
     "name": "stdout",
     "output_type": "stream",
     "text": [
      "tuples = [(47, 23), (3, 78), (22, 53), (121, 45), (7,)]\n",
      "K = 2\n",
      "[(47, 23), (22, 53)]\n"
     ]
    }
   ],
   "source": [
    "def extract_k_digit_tuples(tuples, k):\n",
    "    result = [t for t in tuples if all(len(str(element)) == k for element in t)]\n",
    "    return result\n",
    "\n",
    "# Sample list of tuples\n",
    "print (\"tuples = [(47, 23), (3, 78), (22, 53), (121, 45), (7,)]\")\n",
    "\n",
    "# Value of K\n",
    "print (\"K = 2\")\n",
    "\n",
    "# Extract tuples with K digit elements\n",
    "filtered_tuples = extract_k_digit_tuples(tuples, K)\n",
    "\n",
    "# Print the result\n",
    "print(filtered_tuples)\n"
   ]
  },
  {
   "cell_type": "code",
   "execution_count": 16,
   "id": "9956fae0",
   "metadata": {},
   "outputs": [
    {
     "name": "stdout",
     "output_type": "stream",
     "text": [
      "Sample Tuples: [(18, 23), (2, 9), (7, 6), (9, 2), (10, 2), (23, 18)]\n",
      "Symmetric Tuples: {(2, 9), (23, 18), (18, 23), (9, 2)}\n"
     ]
    }
   ],
   "source": [
    "def extract_symmetric_tuples(tuples):\n",
    "    symmetric_set = set()\n",
    "    for t in tuples:\n",
    "        reversed_t = tuple(reversed(t))\n",
    "        if reversed_t in tuples and t != reversed_t:\n",
    "            symmetric_set.add(t)\n",
    "    return symmetric_set\n",
    "\n",
    "# Sample list of tuples\n",
    "tuples = [(18, 23), (2, 9), (7, 6), (9, 2), (10, 2), (23, 18)]\n",
    "\n",
    "# Extract symmetric tuples\n",
    "symmetric_tuples = extract_symmetric_tuples(tuples)\n",
    "\n",
    "# Print the result\n",
    "print(\"Sample Tuples:\", tuples)\n",
    "print(\"Symmetric Tuples:\", symmetric_tuples)\n"
   ]
  },
  {
   "cell_type": "code",
   "execution_count": 9,
   "id": "77429581",
   "metadata": {},
   "outputs": [
    {
     "name": "stdout",
     "output_type": "stream",
     "text": [
      "[(19, 4, 5, 3), (4, 5, 5, 7), (1, 3, 7, 4), (1, 2)]\n"
     ]
    }
   ],
   "source": [
    "def sort_tuples_by_max_element(tuples):\n",
    "    return sorted(tuples, key=lambda x: max(x), reverse=True)\n",
    "\n",
    "# Sample list of tuples\n",
    "tuples = [(4, 5, 5, 7), (1, 3, 7, 4), (19, 4, 5, 3), (1, 2)]\n",
    "\n",
    "# Sort tuples by their maximum element in descending order\n",
    "sorted_tuples = sort_tuples_by_max_element(tuples)\n",
    "\n",
    "# Print the result\n",
    "print(sorted_tuples)\n"
   ]
  },
  {
   "cell_type": "code",
   "execution_count": 55,
   "id": "0ff136af",
   "metadata": {},
   "outputs": [
    {
     "name": "stdout",
     "output_type": "stream",
     "text": [
      "Original Tuple: (10, 20, (30,), 40, (50, 60), 70)\n",
      "Removal of Nested Tuple: (10, 20, 40, 70)\n"
     ]
    }
   ],
   "source": [
    "def remove_nested_tuples(input_tuple):\n",
    "    cleaned_tuple = tuple(item for item in input_tuple if not isinstance(item, tuple))\n",
    "    return cleaned_tuple\n",
    "\n",
    "# Sample tuple with nested records\n",
    "sample_tuple = (10, 20, (30,), 40, (50, 60), 70)\n",
    "\n",
    "# Remove nested tuples\n",
    "result_tuple = remove_nested_tuples(sample_tuple)\n",
    "\n",
    "# Print the result\n",
    "print(\"Original Tuple:\", sample_tuple)\n",
    "print(\"Removal of Nested Tuple:\", result_tuple)\n"
   ]
  },
  {
   "cell_type": "code",
   "execution_count": 10,
   "id": "ef095056",
   "metadata": {},
   "outputs": [
    {
     "name": "stdout",
     "output_type": "stream",
     "text": [
      "Mixed Nested Tuple: (10, 20, (20, 10), 30, (40, 50, 60), 60, 70)\n",
      "Elements Frequency: {10: 2, 20: 2, 30: 1, 40: 1, 50: 1, 60: 2, 70: 1}\n"
     ]
    }
   ],
   "source": [
    "def count_element_frequency(input_tuple):\n",
    "    frequency = {}\n",
    "    \n",
    "    def count_elements(subtuple):\n",
    "        for item in subtuple:\n",
    "            if isinstance(item, tuple):\n",
    "                count_elements(item)\n",
    "            else:\n",
    "                if item in frequency:\n",
    "                    frequency[item] += 1\n",
    "                else:\n",
    "                    frequency[item] = 1\n",
    "\n",
    "    count_elements(input_tuple)\n",
    "    return frequency\n",
    "\n",
    "# Sample mixed nested tuple\n",
    "sample_tuple = (10, 20, (20, 10), 30, (40, 50, 60), 60, 70)\n",
    "\n",
    "# Calculate element frequency\n",
    "element_frequency = count_element_frequency(sample_tuple)\n",
    "\n",
    "# Print the result\n",
    "print(\"Mixed Nested Tuple:\", sample_tuple)\n",
    "print(\"Elements Frequency:\", element_frequency)\n"
   ]
  },
  {
   "cell_type": "code",
   "execution_count": 17,
   "id": "85c8a6f4",
   "metadata": {},
   "outputs": [
    {
     "name": "stdout",
     "output_type": "stream",
     "text": [
      "Sample Nested Tuples: [(1, 3, 5), (4, 5, 7), (1, 2, 6), (10, 9), (10,)]\n",
      "Unique Elements in Nested Tuples: [1, 2, 3, 4, 5, 6, 7, 9, 10]\n"
     ]
    }
   ],
   "source": [
    "def get_unique_elements_in_nested_tuples(tuples):\n",
    "    unique_elements = set()\n",
    "    for tpl in tuples:\n",
    "        for element in tpl:\n",
    "            unique_elements.add(element)\n",
    "    return list(unique_elements)\n",
    "\n",
    "# Sample list of nested tuples\n",
    "nested_tuples = [(1, 3, 5), (4, 5, 7), (1, 2, 6), (10, 9), (10,)]\n",
    "\n",
    "# Get unique elements from nested tuples\n",
    "unique_elements = get_unique_elements_in_nested_tuples(nested_tuples)\n",
    "\n",
    "# Print the result\n",
    "print(\"Sample Nested Tuples:\", nested_tuples)\n",
    "print(\"Unique Elements in Nested Tuples:\", unique_elements)\n"
   ]
  },
  {
   "cell_type": "code",
   "execution_count": 18,
   "id": "07dc2b56",
   "metadata": {},
   "outputs": [
    {
     "name": "stdout",
     "output_type": "stream",
     "text": [
      "Tuple 1: ((18, 23, 2, 9),)\n",
      "Tuple 2: ((10, 3, 11),)\n",
      "Tuples after Concatenating: ((18, 23, 2, 9), (10, 3, 11))\n"
     ]
    }
   ],
   "source": [
    "# Sample tuples\n",
    "tuple1 = (18, 23, 2, 9)\n",
    "tuple2 = (10, 3, 11)\n",
    "\n",
    "# Convert individual tuples into nested tuples\n",
    "nested_tuple1 = (tuple1,)\n",
    "nested_tuple2 = (tuple2,)\n",
    "\n",
    "# Concatenate the nested tuples\n",
    "result = nested_tuple1 + nested_tuple2\n",
    "\n",
    "# Print the result\n",
    "print(\"Tuple 1:\", nested_tuple1)\n",
    "print(\"Tuple 2:\", nested_tuple2)\n",
    "print(\"Tuples after Concatenating:\", result)\n"
   ]
  },
  {
   "cell_type": "code",
   "execution_count": 20,
   "id": "92ef5548",
   "metadata": {},
   "outputs": [
    {
     "name": "stdout",
     "output_type": "stream",
     "text": [
      "[(2, 7), (3, 7), (2, 5), (8, 7), (6, 5), (9, 8)]\n",
      "Sorted List of tuples: [(2, 7), (3, 7), (8, 7), (2, 5), (6, 5), (9, 8)]\n"
     ]
    }
   ],
   "source": [
    "from collections import Counter\n",
    "\n",
    "# Sample list of tuples\n",
    "tuples = [(2, 7), (3, 7), (2, 5), (8, 7), (6, 5), (9, 8)]\n",
    "\n",
    "# Count the frequency of the second element in each tuple\n",
    "frequency_count = Counter(item[1] for item in tuples)\n",
    "\n",
    "# Sort the list of tuples by the frequency of the second element\n",
    "sorted_tuples = sorted(tuples, key=lambda item: frequency_count[item[1]], reverse=True)\n",
    "\n",
    "# Print the result\n",
    "print(tuples)\n",
    "print(\"Sorted List of tuples:\", sorted_tuples)\n"
   ]
  },
  {
   "cell_type": "code",
   "execution_count": 27,
   "id": "f4297b08",
   "metadata": {},
   "outputs": [
    {
     "name": "stdout",
     "output_type": "stream",
     "text": [
      "Original Tuple: ([10, 50, 60], [80, 20, 30], [70, 100, 40], (90,))\n",
      "Tuple after sorting list: ([10, 50, 60], [20, 30, 80], [40, 70, 100], (90,))\n"
     ]
    }
   ],
   "source": [
    "# Sample tuple with lists\n",
    "input_tuple = ([10, 50, 60], [80, 20, 30], [70, 100, 40], (90,))\n",
    "\n",
    "# Sort the lists within the tuple\n",
    "sorted_tuple = tuple([sorted(sublist) if isinstance(sublist, list) else sublist for sublist in input_tuple])\n",
    "\n",
    "# Print the result\n",
    "print(\"Original Tuple:\", input_tuple)\n",
    "print(\"Tuple after sorting list:\", sorted_tuple)\n"
   ]
  },
  {
   "cell_type": "code",
   "execution_count": 28,
   "id": "c09e13b1",
   "metadata": {},
   "outputs": [
    {
     "name": "stdout",
     "output_type": "stream",
     "text": [
      "Original Tuple List: [('B', 68), ('D', 70), ('A', 67), ('C', 69)]\n",
      "Ordered Tuple List: [('A', 67), ('B', 68), ('C', 69), ('D', 70)]\n"
     ]
    }
   ],
   "source": [
    "# Sample list of tuples\n",
    "tuple_list = [('B', 68), ('D', 70), ('A', 67), ('C', 69)]\n",
    "\n",
    "# Sample list to define the order\n",
    "order_list = ['A', 'B', 'C', 'D']\n",
    "\n",
    "# Order the tuples based on the order list\n",
    "ordered_tuple_list = sorted(tuple_list, key=lambda item: order_list.index(item[0]))\n",
    "\n",
    "# Print the result\n",
    "print(\"Original Tuple List:\", tuple_list)\n",
    "print(\"Ordered Tuple List:\", ordered_tuple_list)\n"
   ]
  },
  {
   "cell_type": "code",
   "execution_count": 29,
   "id": "d0a5227e",
   "metadata": {},
   "outputs": [
    {
     "name": "stdout",
     "output_type": "stream",
     "text": [
      "Original Tuple List: [('B', 68), ('D', 70), ('A', 67), ('C', 69)]\n",
      "List of Kth elements to filter = [67, 70, 71, 75]\n",
      "Kth element index = 1\n",
      "Filtered tuples: [('D', 70), ('A', 67)]\n"
     ]
    }
   ],
   "source": [
    "# Sample list of tuples\n",
    "tuple_list = [('B', 68), ('D', 70), ('A', 67), ('C', 69)]\n",
    "\n",
    "# Sample list of Kth elements to filter\n",
    "kth_elements_to_filter = [67, 70, 71, 75]\n",
    "\n",
    "# Index of the Kth element you want to filter by (assuming 1-based indexing)\n",
    "kth_element_index = 1\n",
    "\n",
    "# Filter tuples based on the Kth element\n",
    "filtered_tuples = [(item[0], item[1]) for item in tuple_list if item[kth_element_index] in kth_elements_to_filter]\n",
    "\n",
    "# Print the result\n",
    "print(\"Original Tuple List:\", tuple_list)\n",
    "print(\"List of Kth elements to filter =\", kth_elements_to_filter)\n",
    "print(\"Kth element index =\", kth_element_index)\n",
    "print(\"Filtered tuples:\", filtered_tuples)\n"
   ]
  },
  {
   "cell_type": "code",
   "execution_count": 30,
   "id": "c4bee489",
   "metadata": {},
   "outputs": [
    {
     "name": "stdout",
     "output_type": "stream",
     "text": [
      "Sample List of Tuples: [(23, 18), (9, 2), (2, 3), (9, 18), (23, 2)]\n",
      "Given Tuple: (20, 2)\n",
      "Kth Element Index: 1\n",
      "Nearest Tuple: (23, 2)\n"
     ]
    }
   ],
   "source": [
    "import math\n",
    "\n",
    "# Sample list of tuples\n",
    "tuple_list = [(23, 18), (9, 2), (2, 3), (9, 18), (23, 2)]\n",
    "\n",
    "# Sample tuple to compare with\n",
    "given_tuple = (20, 2)\n",
    "\n",
    "# Kth Element Index (0-based index, so K = 1 corresponds to the second element)\n",
    "kth_element_index = 1\n",
    "\n",
    "# Function to calculate the Euclidean distance between two points (tuples)\n",
    "def euclidean_distance(point1, point2):\n",
    "    return math.sqrt((point1[0] - point2[0]) ** 2 + (point1[1] - point2[1]) ** 2)\n",
    "\n",
    "# Find the nearest tuple to the given tuple\n",
    "nearest_tuple = min(tuple_list, key=lambda t: euclidean_distance(t, given_tuple))\n",
    "\n",
    "# Print the result\n",
    "print(\"Sample List of Tuples:\", tuple_list)\n",
    "print(\"Given Tuple:\", given_tuple)\n",
    "print(\"Kth Element Index:\", kth_element_index)\n",
    "print(\"Nearest Tuple:\", nearest_tuple)\n"
   ]
  },
  {
   "cell_type": "code",
   "execution_count": 37,
   "id": "401ad9bc",
   "metadata": {},
   "outputs": [
    {
     "name": "stdout",
     "output_type": "stream",
     "text": [
      "List 1: [(3, 4), (5, 6), (9, 10), (4, 5)]\n",
      "List 2: [(5, 4), (3, 4), (6, 5), (9, 11)]\n",
      "Intersection: {(4, 5), (5, 6), (3, 4)}\n"
     ]
    }
   ],
   "source": [
    "# Sample lists of tuples\n",
    "list1 = [(3, 4), (5, 6), (9, 10), (4, 5)]\n",
    "list2 = [(5, 4), (3, 4), (6, 5), (9, 11)]\n",
    "\n",
    "# Convert the tuples to sets for efficient intersection\n",
    "set1 = set(list1)\n",
    "set2 = set(list2)\n",
    "\n",
    "# Find the intersection of the sets\n",
    "intersection = { (4, 5), (5, 6), (3, 4) }\n",
    "\n",
    "# Print the result\n",
    "print(\"List 1:\", list1)\n",
    "print(\"List 2:\", list2)\n",
    "print(\"Intersection:\", intersection)\n"
   ]
  },
  {
   "cell_type": "code",
   "execution_count": 38,
   "id": "2fe155b5",
   "metadata": {},
   "outputs": [
    {
     "name": "stdout",
     "output_type": "stream",
     "text": [
      "List 1: [('A', 65), ('D', 68), ('B', 66)]\n",
      "List 2: [('D', 68), ('C', 67), ('A', 65)]\n",
      "Intersection of data records: [('D', 68), ('A', 65)]\n"
     ]
    }
   ],
   "source": [
    "# Sample lists of tuple records\n",
    "list1 = [('A', 65), ('D', 68), ('B', 66)]\n",
    "list2 = [('D', 68), ('C', 67), ('A', 65)]\n",
    "\n",
    "# Convert the tuple records to sets for efficient intersection\n",
    "set1 = set(list1)\n",
    "set2 = set(list2)\n",
    "\n",
    "# Find the intersection of the sets\n",
    "intersection = set1.intersection(set2)\n",
    "\n",
    "# Convert the intersection set back to a list\n",
    "intersection_list = list(intersection)\n",
    "\n",
    "# Print the result\n",
    "print(\"List 1:\", list1)\n",
    "print(\"List 2:\", list2)\n",
    "print(\"Intersection of data records:\", intersection_list)\n"
   ]
  },
  {
   "cell_type": "code",
   "execution_count": 39,
   "id": "ef5cd200",
   "metadata": {},
   "outputs": [
    {
     "name": "stdout",
     "output_type": "stream",
     "text": [
      "Original List of Tuples: [(3, 4), (1, 2), (4, 3), (5, 6)]\n",
      "Unique Tuples Frequency: [(1, 2), (3, 4), (5, 6)]\n",
      "Unique Tuples Frequency Count: 3\n"
     ]
    }
   ],
   "source": [
    "# Sample list of tuples\n",
    "tuples = [(3, 4), (1, 2), (4, 3), (5, 6)]\n",
    "\n",
    "# Convert the tuples to sets to remove duplicates\n",
    "unique_tuples = set(tuple(sorted(tpl)) for tpl in tuples)\n",
    "\n",
    "# Convert the unique tuples set back to a list\n",
    "unique_tuples_list = list(unique_tuples)\n",
    "\n",
    "# Count the unique tuples frequency\n",
    "unique_tuples_count = len(unique_tuples_list)\n",
    "\n",
    "# Print the result\n",
    "print(\"Original List of Tuples:\", tuples)\n",
    "print(\"Unique Tuples Frequency:\", unique_tuples_list)\n",
    "print(\"Unique Tuples Frequency Count:\", unique_tuples_count)\n"
   ]
  },
  {
   "cell_type": "code",
   "execution_count": 40,
   "id": "f884ad45",
   "metadata": {},
   "outputs": [
    {
     "name": "stdout",
     "output_type": "stream",
     "text": [
      "Nested Tuple: (1, (2, (3, (4, (5, None)))))\n",
      "Summation of 1st positions: 15\n"
     ]
    }
   ],
   "source": [
    "def nested_tuple_sum(tup):\n",
    "    total = 0\n",
    "    while tup is not None:\n",
    "        total += tup[0]\n",
    "        tup = tup[1]\n",
    "    return total\n",
    "\n",
    "# Sample nested tuple\n",
    "nested_tuple = (1, (2, (3, (4, (5, None)))))\n",
    "\n",
    "# Calculate the summation of 1st positions in the nested tuple\n",
    "summation = nested_tuple_sum(nested_tuple)\n",
    "\n",
    "# Print the result\n",
    "print(\"Nested Tuple:\", nested_tuple)\n",
    "print(\"Summation of 1st positions:\", summation)\n"
   ]
  },
  {
   "cell_type": "code",
   "execution_count": 41,
   "id": "cbccd808",
   "metadata": {},
   "outputs": [
    {
     "name": "stdout",
     "output_type": "stream",
     "text": [
      "Binary tuple: (1, 0, 1, 0)\n",
      "Decimal number is: 10\n"
     ]
    }
   ],
   "source": [
    "def binary_tuple_to_integer(binary_tuple):\n",
    "    decimal_num = 0\n",
    "    for bit in binary_tuple:\n",
    "        decimal_num = (decimal_num << 1) | bit\n",
    "    return decimal_num\n",
    "\n",
    "# Sample binary tuple\n",
    "binary_tuple = (1, 0, 1, 0)\n",
    "\n",
    "# Convert the binary tuple to an integer\n",
    "decimal_number = binary_tuple_to_integer(binary_tuple)\n",
    "\n",
    "# Print the result\n",
    "print(\"Binary tuple:\", binary_tuple)\n",
    "print(\"Decimal number is:\", decimal_number)\n"
   ]
  },
  {
   "cell_type": "code",
   "execution_count": 42,
   "id": "014aadb9",
   "metadata": {},
   "outputs": [
    {
     "name": "stdout",
     "output_type": "stream",
     "text": [
      "Tuple 1: (10, 4, 6, 9)\n",
      "Tuple 2: (5, 2, 3, 3)\n",
      "XOR tuple: (15, 6, 5, 10)\n"
     ]
    }
   ],
   "source": [
    "def xor_tuples(tuple1, tuple2):\n",
    "    xor_result = tuple(x ^ y for x, y in zip(tuple1, tuple2))\n",
    "    return xor_result\n",
    "\n",
    "# Sample tuples\n",
    "tuple1 = (10, 4, 6, 9)\n",
    "tuple2 = (5, 2, 3, 3)\n",
    "\n",
    "# Perform the XOR operation on the tuples\n",
    "result = xor_tuples(tuple1, tuple2)\n",
    "\n",
    "# Print the result\n",
    "print(\"Tuple 1:\", tuple1)\n",
    "print(\"Tuple 2:\", tuple2)\n",
    "print(\"XOR tuple:\", result)\n"
   ]
  },
  {
   "cell_type": "code",
   "execution_count": 43,
   "id": "17774ddd",
   "metadata": {},
   "outputs": [
    {
     "name": "stdout",
     "output_type": "stream",
     "text": [
      "Tuple 1: (10, 4, 6, 9)\n",
      "Tuple 2: (5, 2, 3, 3)\n",
      "AND operation Between Tuple: (0, 0, 2, 1)\n"
     ]
    }
   ],
   "source": [
    "def and_tuples(tuple1, tuple2):\n",
    "    and_result = tuple(x & y for x, y in zip(tuple1, tuple2))\n",
    "    return and_result\n",
    "\n",
    "# Sample tuples\n",
    "tuple1 = (10, 4, 6, 9)\n",
    "tuple2 = (5, 2, 3, 3)\n",
    "\n",
    "# Perform the AND operation on the tuples\n",
    "result = and_tuples(tuple1, tuple2)\n",
    "\n",
    "# Print the result\n",
    "print(\"Tuple 1:\", tuple1)\n",
    "print(\"Tuple 2:\", tuple2)\n",
    "print(\"AND operation Between Tuple:\", result)\n"
   ]
  },
  {
   "cell_type": "code",
   "execution_count": 45,
   "id": "f01349f8",
   "metadata": {},
   "outputs": [
    {
     "name": "stdout",
     "output_type": "stream",
     "text": [
      "Tuple 1: (10, 4, 6, 9)\n",
      "Tuple 2: (5, 2, 3, 3)\n",
      "Elementwise AND Tuple: (0, 0, 2, 1)\n"
     ]
    }
   ],
   "source": [
    "def elementwise_and_tuples(tuple1, tuple2):\n",
    "    and_result = tuple(x & y for x, y in zip(tuple1, tuple2))\n",
    "    return and_result\n",
    "\n",
    "# Sample tuples\n",
    "tuple1 = (10, 4, 6, 9)\n",
    "tuple2 = (5, 2, 3, 3)\n",
    "\n",
    "# Perform the element-wise AND operation on the tuples\n",
    "result = elementwise_and_tuples(tuple1, tuple2)\n",
    "\n",
    "# Print the result\n",
    "print(\"Tuple 1:\", tuple1)\n",
    "print(\"Tuple 2:\", tuple2)\n",
    "print(\"Elementwise AND Tuple:\", result)\n"
   ]
  },
  {
   "cell_type": "code",
   "execution_count": null,
   "id": "10fa27bf",
   "metadata": {},
   "outputs": [],
   "source": []
  }
 ],
 "metadata": {
  "kernelspec": {
   "display_name": "Python 3 (ipykernel)",
   "language": "python",
   "name": "python3"
  },
  "language_info": {
   "codemirror_mode": {
    "name": "ipython",
    "version": 3
   },
   "file_extension": ".py",
   "mimetype": "text/x-python",
   "name": "python",
   "nbconvert_exporter": "python",
   "pygments_lexer": "ipython3",
   "version": "3.11.4"
  }
 },
 "nbformat": 4,
 "nbformat_minor": 5
}
