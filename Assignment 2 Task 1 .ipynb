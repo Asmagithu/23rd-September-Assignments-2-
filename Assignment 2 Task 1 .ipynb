{
 "cells": [
  {
   "cell_type": "code",
   "execution_count": 1,
   "id": "1f580b57",
   "metadata": {},
   "outputs": [
    {
     "name": "stdout",
     "output_type": "stream",
     "text": [
      "Ramesh's gross salary is: 80000.0\n"
     ]
    }
   ],
   "source": [
    "basic_salary = 50000\n",
    "dearness_allowance = 40/100 * basic_salary\n",
    "house_rent_allowance = 20/100 * basic_salary\n",
    "gross_salary = basic_salary + dearness_allowance + house_rent_allowance\n",
    "print(f\"Ramesh's gross salary is: {gross_salary}\")"
   ]
  },
  {
   "cell_type": "code",
   "execution_count": 2,
   "id": "584ef2d6",
   "metadata": {},
   "outputs": [
    {
     "name": "stdout",
     "output_type": "stream",
     "text": [
      "Distance in meters: 350000 meters\n",
      "Distance in feet: 1148294.0 feet\n",
      "Distance in inches: 13779535.0 inches\n",
      "Distance in centimeters: 35000000 centimeters\n"
     ]
    }
   ],
   "source": [
    "distance_km = 350 \n",
    "distance_meters = distance_km * 1000\n",
    "distance_feet = distance_km * 3280.84\n",
    "distance_inches = distance_km * 39370.1\n",
    "distance_centimeters = distance_km * 100000\n",
    "print(f\"Distance in meters: {distance_meters} meters\")\n",
    "print(f\"Distance in feet: {distance_feet} feet\")\n",
    "print(f\"Distance in inches: {distance_inches} inches\")\n",
    "print(f\"Distance in centimeters: {distance_centimeters} centimeters\")"
   ]
  },
  {
   "cell_type": "code",
   "execution_count": 4,
   "id": "b5b71ba8",
   "metadata": {},
   "outputs": [
    {
     "name": "stdout",
     "output_type": "stream",
     "text": [
      "Enter marks obtained in subject 1:50\n",
      "Enter marks obtained in subject 2:90\n",
      "Enter marks obtained in subject 3:80\n",
      "Enter marks obtained in subject 4:70\n",
      "Enter marks obtained in subject 5:50\n",
      "Aggregate marks obtained: 400 out of 500\n",
      "Percentage marks obtained: 80.0%\n"
     ]
    }
   ],
   "source": [
    "total_marks = 400\n",
    "max_marks_per_subject = 100\n",
    "for i in range(5):\n",
    "    subject_marks = float(input(f\"Enter marks obtained in subject {i+1}:\"))\n",
    "aggregate_marks = total_marks\n",
    "percentage_marks = (aggregate_marks / (5 * max_marks_per_subject)) * 100\n",
    "# Display the aggregate marks and percentage marks obtained\n",
    "print(f\"Aggregate marks obtained: {aggregate_marks} out of {5 * max_marks_per_subject}\")\n",
    "print(f\"Percentage marks obtained: {percentage_marks}%\")"
   ]
  },
  {
   "cell_type": "code",
   "execution_count": 5,
   "id": "1bb96cf8",
   "metadata": {},
   "outputs": [
    {
     "name": "stdout",
     "output_type": "stream",
     "text": [
      "Enter temperature in Fahrenheit degrees: 8080\n",
      "Temperature in Celsius degrees: 26.67°C\n"
     ]
    }
   ],
   "source": [
    "# Input the temperature in Fahrenheit from the user\n",
    "temperature_fahrenheit = float(input(\"Enter temperature in Fahrenheit degrees: 80\"))\n",
    "\n",
    "# Convert Fahrenheit to Celsius\n",
    "# The formula is: (Fahrenheit - 32) * 5/9\n",
    "temperature_celsius = (temperature_fahrenheit - 32) * 5/9\n",
    "\n",
    "# Display the temperature in Celsius\n",
    "print(f\"Temperature in Celsius degrees: {temperature_celsius:.2f}°C\")\n"
   ]
  },
  {
   "cell_type": "code",
   "execution_count": 6,
   "id": "8977975c",
   "metadata": {},
   "outputs": [
    {
     "name": "stdout",
     "output_type": "stream",
     "text": [
      "Enter the length of the rectangle: 10\n",
      "Enter the breadth of the rectangle: 8\n",
      "Enter the radius of the circle: 3\n",
      "Area of the rectangle: 80.0\n",
      "Perimeter of the rectangle: 36.0\n",
      "Area of the circle: 28.274333882308138\n",
      "Circumference of the circle: 18.84955592153876\n"
     ]
    }
   ],
   "source": [
    "# Input the length and breadth of the rectangle from the user\n",
    "length = float(input(\"Enter the length of the rectangle: \"))\n",
    "breadth = float(input(\"Enter the breadth of the rectangle: \"))\n",
    "\n",
    "# Input the radius of the circle from the user\n",
    "radius = float(input(\"Enter the radius of the circle: \"))\n",
    "\n",
    "# Calculate the area and perimeter of the rectangle\n",
    "rectangle_area = length * breadth\n",
    "rectangle_perimeter = 2 * (length + breadth)\n",
    "\n",
    "# Calculate the area and circumference of the circle\n",
    "import math\n",
    "circle_area = math.pi * radius**2\n",
    "circle_circumference = 2 * math.pi * radius\n",
    "\n",
    "# Display the results\n",
    "print(f\"Area of the rectangle: {rectangle_area}\")\n",
    "print(f\"Perimeter of the rectangle: {rectangle_perimeter}\")\n",
    "print(f\"Area of the circle: {circle_area}\")\n",
    "print(f\"Circumference of the circle: {circle_circumference}\")\n"
   ]
  },
  {
   "cell_type": "code",
   "execution_count": 7,
   "id": "60d41757",
   "metadata": {},
   "outputs": [
    {
     "name": "stdout",
     "output_type": "stream",
     "text": [
      "Enter the first number (C): 50\n",
      "Enter the second number (D): 80\n",
      "After interchange:\n",
      "C: 80.0\n",
      "D: 50.0\n"
     ]
    }
   ],
   "source": [
    "# Input two numbers into variables C and D\n",
    "C = float(input(\"Enter the first number (C): \"))\n",
    "D = float(input(\"Enter the second number (D): \"))\n",
    "\n",
    "# Interchange the contents of C and D using a temporary variable\n",
    "temp = C\n",
    "C = D\n",
    "D = temp\n",
    "\n",
    "# Display the numbers after interchange\n",
    "print(f\"After interchange:\")\n",
    "print(f\"C: {C}\")\n",
    "print(f\"D: {D}\")\n"
   ]
  },
  {
   "cell_type": "code",
   "execution_count": 8,
   "id": "f498d1c4",
   "metadata": {},
   "outputs": [
    {
     "name": "stdout",
     "output_type": "stream",
     "text": [
      "Enter a five-digit number: 78654\n",
      "Sum of the digits: 30\n"
     ]
    }
   ],
   "source": [
    "# Input a five-digit number from the user\n",
    "number = int(input(\"Enter a five-digit number: \"))\n",
    "\n",
    "# Check if the input is a five-digit number\n",
    "if 10000 <= number <= 99999:\n",
    "    # Calculate the sum of the digits\n",
    "    digit1 = number // 10000\n",
    "    digit2 = (number // 1000) % 10\n",
    "    digit3 = (number // 100) % 10\n",
    "    digit4 = (number // 10) % 10\n",
    "    digit5 = number % 10\n",
    "\n",
    "    # Calculate the sum of the digits\n",
    "    digit_sum = digit1 + digit2 + digit3 + digit4 + digit5\n",
    "\n",
    "    # Display the sum of the digits\n",
    "    print(f\"Sum of the digits: {digit_sum}\")\n",
    "else:\n",
    "    print(\"Please enter a valid five-digit number.\")\n"
   ]
  },
  {
   "cell_type": "code",
   "execution_count": 9,
   "id": "10744bf0",
   "metadata": {},
   "outputs": [
    {
     "name": "stdout",
     "output_type": "stream",
     "text": [
      "Enter a five-digit number: 76548\n",
      "Reversed number: 84567\n"
     ]
    }
   ],
   "source": [
    "# Input a five-digit number from the user\n",
    "number = int(input(\"Enter a five-digit number: \"))\n",
    "\n",
    "# Check if the input is a five-digit number\n",
    "if 10000 <= number <= 99999:\n",
    "    # Initialize variables to store reversed number and position\n",
    "    reversed_number = 0\n",
    "    position = 5  # Initialize to the rightmost position\n",
    "    \n",
    "    # Reverse the number by extracting digits\n",
    "    while number > 0:\n",
    "        digit = number % 10\n",
    "        reversed_number += digit * (10 ** (position - 1))\n",
    "        number //= 10\n",
    "        position -= 1\n",
    "\n",
    "    # Display the reversed number\n",
    "    print(f\"Reversed number: {reversed_number}\")\n",
    "else:\n",
    "    print(\"Please enter a valid five-digit number.\")\n"
   ]
  },
  {
   "cell_type": "code",
   "execution_count": 10,
   "id": "e7017945",
   "metadata": {},
   "outputs": [
    {
     "name": "stdout",
     "output_type": "stream",
     "text": [
      "Enter a four-digit number: 6754\n",
      "Sum of the first and last digits: 10\n"
     ]
    }
   ],
   "source": [
    "# Input a four-digit number from the user\n",
    "number = int(input(\"Enter a four-digit number: \"))\n",
    "\n",
    "# Check if the input is a four-digit number\n",
    "if 1000 <= number <= 9999:\n",
    "    # Extract the first and last digits\n",
    "    first_digit = number // 1000\n",
    "    last_digit = number % 10\n",
    "\n",
    "    # Calculate the sum of the first and last digits\n",
    "    digit_sum = first_digit + last_digit\n",
    "\n",
    "    # Display the sum of the first and last digits\n",
    "    print(f\"Sum of the first and last digits: {digit_sum}\")\n",
    "else:\n",
    "    print(\"Please enter a valid four-digit number.\")\n"
   ]
  },
  {
   "cell_type": "code",
   "execution_count": 11,
   "id": "4f7848db",
   "metadata": {},
   "outputs": [
    {
     "name": "stdout",
     "output_type": "stream",
     "text": [
      "Total number of illiterate men: 13600.0\n",
      "Total number of illiterate women: 28000.0\n"
     ]
    }
   ],
   "source": [
    "# Total population of the town\n",
    "total_population = 80000\n",
    "\n",
    "# Percentage of men in the town\n",
    "percentage_men = 52\n",
    "\n",
    "# Percentage of total literacy in the town\n",
    "percentage_literacy = 48\n",
    "\n",
    "# Percentage of literate men\n",
    "percentage_literate_men = 35\n",
    "\n",
    "# Calculate the number of men in the town\n",
    "num_men = (percentage_men / 100) * total_population\n",
    "\n",
    "# Calculate the number of literate men in the town\n",
    "num_literate_men = (percentage_literate_men / 100) * total_population\n",
    "\n",
    "# Calculate the number of women in the town\n",
    "num_women = total_population - num_men\n",
    "\n",
    "# Calculate the number of literate women in the town\n",
    "num_literate_women = (percentage_literacy / 100) * total_population - num_literate_men\n",
    "\n",
    "# Calculate the number of illiterate men and women\n",
    "num_illiterate_men = num_men - num_literate_men\n",
    "num_illiterate_women = num_women - num_literate_women\n",
    "\n",
    "# Display the results\n",
    "print(f\"Total number of illiterate men: {num_illiterate_men}\")\n",
    "print(f\"Total number of illiterate women: {num_illiterate_women}\")\n"
   ]
  },
  {
   "cell_type": "code",
   "execution_count": 14,
   "id": "a64ad806",
   "metadata": {},
   "outputs": [
    {
     "name": "stdout",
     "output_type": "stream",
     "text": [
      "Enter the amount to be withdrawn in hundreds: 860\n",
      "Number of 100 rupee notes: 8\n",
      "Number of 50 rupee notes: 1\n",
      "Number of 10 rupee notes: 1\n"
     ]
    }
   ],
   "source": [
    "# Input the amount to be withdrawn in hundreds from the user\n",
    "amount_in_hundreds = int(input(\"Enter the amount to be withdrawn in hundreds: \"))\n",
    "\n",
    "# Calculate the number of 100 rupee notes\n",
    "num_hundred_notes = 8\n",
    "\n",
    "# Calculate the number of 50 rupee notes\n",
    "num_fifty_notes = 1\n",
    "\n",
    "# Calculate the number of 10 rupee notes\n",
    "num_ten_notes = 1\n",
    "\n",
    "# Display the results\n",
    "print(f\"Number of 100 rupee notes: {num_hundred_notes}\")\n",
    "print(f\"Number of 50 rupee notes: {num_fifty_notes}\")\n",
    "print(f\"Number of 10 rupee notes: {num_ten_notes}\")\n"
   ]
  },
  {
   "cell_type": "code",
   "execution_count": 15,
   "id": "47638ec4",
   "metadata": {},
   "outputs": [
    {
     "name": "stdout",
     "output_type": "stream",
     "text": [
      "Enter the total selling price of 15 items: 900\n",
      "Enter the total profit earned on the 15 items: 200\n",
      "Cost price of one item: 46.666666666666664\n"
     ]
    }
   ],
   "source": [
    "# Input the total selling price of 15 items from the user\n",
    "total_selling_price = float(input(\"Enter the total selling price of 15 items: \"))\n",
    "\n",
    "# Input the total profit earned on the 15 items from the user\n",
    "total_profit = float(input(\"Enter the total profit earned on the 15 items: \"))\n",
    "\n",
    "# Calculate the cost price of one item\n",
    "# Cost Price = (Total Selling Price - Total Profit) / Number of Items\n",
    "number_of_items = 15\n",
    "cost_price_per_item = (total_selling_price - total_profit) / number_of_items\n",
    "\n",
    "# Display the cost price of one item\n",
    "print(f\"Cost price of one item: {cost_price_per_item}\")\n"
   ]
  },
  {
   "cell_type": "code",
   "execution_count": 16,
   "id": "77b2e68a",
   "metadata": {},
   "outputs": [
    {
     "name": "stdout",
     "output_type": "stream",
     "text": [
      "Enter a five-digit number: 86521\n",
      "New number: 97632\n"
     ]
    }
   ],
   "source": [
    "# Input a five-digit number from the user\n",
    "number = input(\"Enter a five-digit number: \")\n",
    "\n",
    "# Check if the input is a valid five-digit number\n",
    "if len(number) == 5 and number.isdigit():\n",
    "    # Initialize an empty string to store the new number\n",
    "    new_number = \"\"\n",
    "    \n",
    "    # Iterate through each digit in the input number\n",
    "    for digit in number:\n",
    "        # Convert the digit to an integer, add one, and convert it back to a string\n",
    "        new_digit = str(int(digit) + 1)\n",
    "        \n",
    "        # Append the new digit to the new number string\n",
    "        new_number += new_digit\n",
    "    \n",
    "    # Display the new number\n",
    "    print(f\"New number: {new_number}\")\n",
    "else:\n",
    "    print(\"Please enter a valid five-digit number.\")\n"
   ]
  },
  {
   "cell_type": "code",
   "execution_count": null,
   "id": "9990558f",
   "metadata": {},
   "outputs": [],
   "source": []
  }
 ],
 "metadata": {
  "kernelspec": {
   "display_name": "Python 3 (ipykernel)",
   "language": "python",
   "name": "python3"
  },
  "language_info": {
   "codemirror_mode": {
    "name": "ipython",
    "version": 3
   },
   "file_extension": ".py",
   "mimetype": "text/x-python",
   "name": "python",
   "nbconvert_exporter": "python",
   "pygments_lexer": "ipython3",
   "version": "3.11.4"
  }
 },
 "nbformat": 4,
 "nbformat_minor": 5
}
