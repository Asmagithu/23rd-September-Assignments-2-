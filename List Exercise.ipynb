{
 "cells": [
  {
   "cell_type": "code",
   "execution_count": 1,
   "id": "a6ab796e",
   "metadata": {},
   "outputs": [
    {
     "name": "stdout",
     "output_type": "stream",
     "text": [
      "List of numbers: [1, 7, -10, 34, 2, -8]\n",
      "Sum all the items = 26\n"
     ]
    }
   ],
   "source": [
    "# Sample list of numbers\n",
    "numbers = [1, 7, -10, 34, 2, -8]\n",
    "\n",
    "# Calculate the sum of all the items in the list\n",
    "total = sum(numbers)\n",
    "\n",
    "# Print the result\n",
    "print(\"List of numbers:\", numbers)\n",
    "print(\"Sum all the items =\", total)\n"
   ]
  },
  {
   "cell_type": "code",
   "execution_count": 2,
   "id": "cec9bd9f",
   "metadata": {},
   "outputs": [
    {
     "name": "stdout",
     "output_type": "stream",
     "text": [
      "List of numbers: [3, 4, 5, 4, 7]\n",
      "Multiply all the items in a list: 1680\n"
     ]
    }
   ],
   "source": [
    "# Sample list of numbers\n",
    "numbers = [3, 4, 5, 4, 7]\n",
    "\n",
    "# Calculate the product of all the items in the list\n",
    "product = 1\n",
    "for number in numbers:\n",
    "    product *= number\n",
    "\n",
    "# Print the result\n",
    "print(\"List of numbers:\", numbers)\n",
    "print(\"Multiply all the items in a list:\", product)\n"
   ]
  },
  {
   "cell_type": "code",
   "execution_count": 3,
   "id": "1ab83633",
   "metadata": {},
   "outputs": [
    {
     "name": "stdout",
     "output_type": "stream",
     "text": [
      "List of numbers: [1, 7, 10, 34, 2, 8]\n",
      "Largest Number: 34\n"
     ]
    }
   ],
   "source": [
    "# Sample list of numbers\n",
    "numbers = [1, 7, 10, 34, 2, 8]\n",
    "\n",
    "# Find the largest number in the list\n",
    "largest_number = max(numbers)\n",
    "\n",
    "# Print the result\n",
    "print(\"List of numbers:\", numbers)\n",
    "print(\"Largest Number:\", largest_number)\n"
   ]
  },
  {
   "cell_type": "code",
   "execution_count": 4,
   "id": "4c08d328",
   "metadata": {},
   "outputs": [
    {
     "name": "stdout",
     "output_type": "stream",
     "text": [
      "List of numbers: [51, 7, 10, 34, 2, 8]\n",
      "Smallest Number: 2\n"
     ]
    }
   ],
   "source": [
    "# Sample list of numbers\n",
    "numbers = [51, 7, 10, 34, 2, 8]\n",
    "\n",
    "# Find the smallest number in the list\n",
    "smallest_number = min(numbers)\n",
    "\n",
    "# Print the result\n",
    "print(\"List of numbers:\", numbers)\n",
    "print(\"Smallest Number:\", smallest_number)\n"
   ]
  },
  {
   "cell_type": "code",
   "execution_count": 5,
   "id": "6ce27120",
   "metadata": {},
   "outputs": [
    {
     "name": "stdout",
     "output_type": "stream",
     "text": [
      "List of strings: ['abc', 'xyz', 'aba', '1221']\n",
      "First and Last Character are same: 2\n"
     ]
    }
   ],
   "source": [
    "# Sample list of strings\n",
    "strings = ['abc', 'xyz', 'aba', '1221']\n",
    "\n",
    "# Count the number of strings that meet the criteria\n",
    "count = sum(1 for string in strings if len(string) >= 2 and string[0] == string[-1])\n",
    "\n",
    "# Print the result\n",
    "print(\"List of strings:\", strings)\n",
    "print(\"First and Last Character are same:\", count)\n"
   ]
  },
  {
   "cell_type": "code",
   "execution_count": 6,
   "id": "4df8a305",
   "metadata": {},
   "outputs": [
    {
     "name": "stdout",
     "output_type": "stream",
     "text": [
      "[1, 2, 3, 7, 2, 1, 5, 6, 4, 8, 5, 4]\n",
      "{1, 2, 3, 4, 5, 6, 7, 8}\n"
     ]
    }
   ],
   "source": [
    "# Sample list with duplicates\n",
    "numbers = [1, 2, 3, 7, 2, 1, 5, 6, 4, 8, 5, 4]\n",
    "\n",
    "# Remove duplicates by converting the list to a set\n",
    "unique_numbers = set(numbers)\n",
    "\n",
    "# Print the result\n",
    "print(numbers)\n",
    "print(unique_numbers)\n"
   ]
  },
  {
   "cell_type": "code",
   "execution_count": 9,
   "id": "2b7175d5",
   "metadata": {},
   "outputs": [
    {
     "name": "stdout",
     "output_type": "stream",
     "text": [
      "[34, 45, 6, 5, 4, 56, 7]\n",
      "List is Not Empty\n"
     ]
    }
   ],
   "source": [
    "# Sample list\n",
    "print (\"[34, 45, 6, 5, 4, 56, 7]\")\n",
    "\n",
    "# Check if the list is empty\n",
    "if not my_list:\n",
    "    print(\"List is Empty\")\n",
    "else:\n",
    "    print(\"List is Not Empty\")\n"
   ]
  },
  {
   "cell_type": "code",
   "execution_count": 10,
   "id": "3910edf1",
   "metadata": {},
   "outputs": [
    {
     "name": "stdout",
     "output_type": "stream",
     "text": [
      "Original List: [10, 22, 44, 23, 4]\n",
      "Clone or Copy a List: [10, 22, 44, 23, 4]\n"
     ]
    }
   ],
   "source": [
    "# Sample list\n",
    "original_list = [10, 22, 44, 23, 4]\n",
    "\n",
    "# Clone or copy the list\n",
    "cloned_list = original_list[:]\n",
    "\n",
    "# Print the result\n",
    "print(\"Original List:\", original_list)\n",
    "print(\"Clone or Copy a List:\", cloned_list)\n"
   ]
  },
  {
   "cell_type": "code",
   "execution_count": 11,
   "id": "e24c7e3c",
   "metadata": {},
   "outputs": [
    {
     "name": "stdout",
     "output_type": "stream",
     "text": [
      "Find the List of Words that are Longer than n from a given List of Words\n",
      "Given value of n = 4\n",
      "['Words', 'Longer', 'given', 'Words']\n"
     ]
    }
   ],
   "source": [
    "# Sample list of words\n",
    "word_list = ['Find', 'the', 'List', 'of', 'Words', 'that', 'are', 'Longer', 'than', 'n', 'from', 'a', 'given', 'List', 'of', 'Words']\n",
    "\n",
    "# Given value of n\n",
    "n = 4\n",
    "\n",
    "# Find words longer than n\n",
    "longer_words = [word for word in word_list if len(word) > n]\n",
    "\n",
    "# Print the result\n",
    "print(\"Find the List of Words that are Longer than n from a given List of Words\")\n",
    "print(\"Given value of n =\", n)\n",
    "print(longer_words)\n"
   ]
  },
  {
   "cell_type": "code",
   "execution_count": 12,
   "id": "6e2166c7",
   "metadata": {},
   "outputs": [
    {
     "name": "stdout",
     "output_type": "stream",
     "text": [
      "[1, 2, 3, 4, 5]\n",
      "[5, 6, 7, 8, 9]\n",
      "Lists have at least one common member\n"
     ]
    }
   ],
   "source": [
    "# Sample lists\n",
    "list1 = [1, 2, 3, 4, 5]\n",
    "list2 = [5, 6, 7, 8, 9]\n",
    "\n",
    "# Check if there is at least one common member between the lists\n",
    "has_common_member = any(item in list1 for item in list2)\n",
    "\n",
    "# Print the result\n",
    "print(list1)\n",
    "print(list2)\n",
    "\n",
    "if has_common_member:\n",
    "    print(\"Lists have at least one common member\")\n",
    "else:\n",
    "    print(\"Lists do not have a common member\")\n"
   ]
  },
  {
   "cell_type": "code",
   "execution_count": 13,
   "id": "1fd5f67b",
   "metadata": {},
   "outputs": [
    {
     "name": "stdout",
     "output_type": "stream",
     "text": [
      "['Cat', 'Dog', 'Elephant', 'Fox', 'Tiger', 'Lion', 'Ponda']\n",
      "['Dog', 'Elephant', 'Fox', 'Ponda']\n"
     ]
    }
   ],
   "source": [
    "# Sample list\n",
    "animal_list = [\"Cat\", \"Dog\", \"Elephant\", \"Fox\", \"Tiger\", \"Lion\", \"Ponda\"]\n",
    "\n",
    "# Positions to remove (0-based index)\n",
    "positions_to_remove = [0, 4, 5]\n",
    "\n",
    "# Create a new list without the specified positions\n",
    "filtered_list = [animal for i, animal in enumerate(animal_list) if i not in positions_to_remove]\n",
    "\n",
    "# Print the original list and the filtered list\n",
    "print(animal_list)\n",
    "print(filtered_list)\n"
   ]
  },
  {
   "cell_type": "code",
   "execution_count": 14,
   "id": "a5dad6fe",
   "metadata": {},
   "outputs": [
    {
     "name": "stdout",
     "output_type": "stream",
     "text": [
      "[7, 32, 81, 20, 25, 14, 23, 27]\n",
      "[7, 81, 25, 23, 27]\n"
     ]
    }
   ],
   "source": [
    "# Sample list of numbers\n",
    "number_list = [7, 32, 81, 20, 25, 14, 23, 27]\n",
    "\n",
    "# Remove even numbers from the list\n",
    "filtered_list = [number for number in number_list if number % 2 != 0]\n",
    "\n",
    "# Print the original list and the filtered list\n",
    "print(number_list)\n",
    "print(filtered_list)\n"
   ]
  },
  {
   "cell_type": "code",
   "execution_count": 24,
   "id": "5377075b",
   "metadata": {},
   "outputs": [
    {
     "name": "stdout",
     "output_type": "stream",
     "text": [
      "['Fox', 'Cat', 'Dog', 'Tiger', 'Lion', 'Ponda', 'Elephant']\n"
     ]
    }
   ],
   "source": [
    "import random\n",
    "\n",
    "# Sample list\n",
    "animal_list = [\"Cat\", \"Dog\", \"Elephant\", \"Fox\", \"Tiger\", \"Lion\", \"Ponda\"]\n",
    "\n",
    "# Shuffle the list in place\n",
    "random.shuffle(animal_list)\n",
    "\n",
    "# Print the shuffled list\n",
    "print(animal_list)\n"
   ]
  },
  {
   "cell_type": "code",
   "execution_count": 25,
   "id": "7b30a1b9",
   "metadata": {},
   "outputs": [
    {
     "name": "stdout",
     "output_type": "stream",
     "text": [
      "First 5 elements: [1, 4, 9, 16, 25]\n",
      "Last 5 elements: [676, 729, 784, 841, 900]\n"
     ]
    }
   ],
   "source": [
    "# Generate a list of squares of numbers between 1 and 30\n",
    "squares_list = [x ** 2 for x in range(1, 31)]\n",
    "\n",
    "# Get the first 5 elements\n",
    "first_5_elements = squares_list[:5]\n",
    "\n",
    "# Get the last 5 elements\n",
    "last_5_elements = squares_list[-5:]\n",
    "\n",
    "# Print the first and last 5 elements\n",
    "print(\"First 5 elements:\", first_5_elements)\n",
    "print(\"Last 5 elements:\", last_5_elements)\n"
   ]
  },
  {
   "cell_type": "code",
   "execution_count": 26,
   "id": "3fd85aa7",
   "metadata": {},
   "outputs": [
    {
     "name": "stdout",
     "output_type": "stream",
     "text": [
      "[1, 2, 3]\n",
      "[(1, 2, 3), (1, 3, 2), (2, 1, 3), (2, 3, 1), (3, 1, 2), (3, 2, 1)]\n"
     ]
    }
   ],
   "source": [
    "from itertools import permutations\n",
    "\n",
    "# Sample list\n",
    "my_list = [1, 2, 3]\n",
    "\n",
    "# Generate all permutations of the list\n",
    "permutations_list = list(permutations(my_list))\n",
    "\n",
    "# Print the list of permutations\n",
    "print(my_list)\n",
    "print(permutations_list)\n"
   ]
  },
  {
   "cell_type": "code",
   "execution_count": 27,
   "id": "10b9a423",
   "metadata": {},
   "outputs": [
    {
     "name": "stdout",
     "output_type": "stream",
     "text": [
      "['T', 'u', 't', 'o', 'r', ' ', 'J', 'o', 'e', 's']\n",
      "Tutor Joes\n"
     ]
    }
   ],
   "source": [
    "# Sample list of characters\n",
    "char_list = ['T', 'u', 't', 'o', 'r', ' ', 'J', 'o', 'e', 's']\n",
    "\n",
    "# Convert the list of characters to a string\n",
    "result_string = ''.join(char_list)\n",
    "\n",
    "# Print the result\n",
    "print(char_list)\n",
    "print(result_string)\n",
    "\n"
   ]
  },
  {
   "cell_type": "code",
   "execution_count": 28,
   "id": "cb6c5b11",
   "metadata": {},
   "outputs": [
    {
     "name": "stdout",
     "output_type": "stream",
     "text": [
      "[20, 70, 30, 90, 10, 30, 90, 10, 80]\n",
      "Item to find the index of 30\n",
      "Index Number of Item = 2\n"
     ]
    }
   ],
   "source": [
    "# Sample list\n",
    "my_list = [20, 70, 30, 90, 10, 30, 90, 10, 80]\n",
    "\n",
    "# Item to find the index of\n",
    "item_to_find = 30\n",
    "\n",
    "# Find the index of the item\n",
    "if item_to_find in my_list:\n",
    "    index = my_list.index(item_to_find)\n",
    "    print(my_list)\n",
    "    print(\"Item to find the index of\", item_to_find)\n",
    "    print(\"Index Number of Item =\", index)\n",
    "else:\n",
    "    print(my_list)\n",
    "    print(\"Item\", item_to_find, \"not found in the list\")\n"
   ]
  },
  {
   "cell_type": "code",
   "execution_count": 29,
   "id": "a04d4594",
   "metadata": {},
   "outputs": [
    {
     "name": "stdout",
     "output_type": "stream",
     "text": [
      "[[20, 30, 70], [30, 90, 10], [30, 20], [70, 90, 10, 80]]\n",
      "[20, 30, 70, 30, 90, 10, 30, 20, 70, 90, 10, 80]\n"
     ]
    }
   ],
   "source": [
    "# Sample shallow list\n",
    "shallow_list = [[20, 30, 70], [30, 90, 10], [30, 20], [70, 90, 10, 80]]\n",
    "\n",
    "# Flatten the shallow list\n",
    "flattened_list = [item for sublist in shallow_list for item in sublist]\n",
    "\n",
    "# Print the original shallow list and the flattened list\n",
    "print(shallow_list)\n",
    "print(flattened_list)\n"
   ]
  },
  {
   "cell_type": "code",
   "execution_count": 30,
   "id": "0d278bff",
   "metadata": {},
   "outputs": [
    {
     "name": "stdout",
     "output_type": "stream",
     "text": [
      "[10, 20, 30, 40]\n",
      "['Cat', 'Dog', 'Lion', 'Ponda']\n",
      "[10, 20, 30, 40, 'Cat', 'Dog', 'Lion', 'Ponda']\n"
     ]
    }
   ],
   "source": [
    "# First list\n",
    "list1 = [10, 20, 30, 40]\n",
    "\n",
    "# Second list to add\n",
    "list2 = [\"Cat\", \"Dog\", \"Lion\", \"Ponda\"]\n",
    "\n",
    "# Add list2 to list1\n",
    "combined_list = list1 + list2\n",
    "\n",
    "# Print the original lists and the combined list\n",
    "print(list1)\n",
    "print(list2)\n",
    "print(combined_list)\n"
   ]
  },
  {
   "cell_type": "code",
   "execution_count": 31,
   "id": "5cefc0cf",
   "metadata": {},
   "outputs": [
    {
     "name": "stdout",
     "output_type": "stream",
     "text": [
      "['Cat', 'Dog', 'Elephant', 'Fox', 'Tiger', 'Lion', 'Ponda']\n",
      "Item randomly from a list: Cat\n"
     ]
    }
   ],
   "source": [
    "import random\n",
    "\n",
    "# Sample list of items\n",
    "item_list = [\"Cat\", \"Dog\", \"Elephant\", \"Fox\", \"Tiger\", \"Lion\", \"Ponda\"]\n",
    "\n",
    "# Select an item randomly from the list\n",
    "random_item = random.choice(item_list)\n",
    "\n",
    "# Print the original list and the randomly selected item\n",
    "print(item_list)\n",
    "print(\"Item randomly from a list:\", random_item)\n"
   ]
  },
  {
   "cell_type": "code",
   "execution_count": 32,
   "id": "1861bfc7",
   "metadata": {},
   "outputs": [
    {
     "name": "stdout",
     "output_type": "stream",
     "text": [
      "[8, 8, 12, 12, 8]\n",
      "[8, 8, 8, 12, 12]\n",
      "Compare List1 and List2: True\n",
      "Compare List1 and List3: False\n"
     ]
    }
   ],
   "source": [
    "# Function to check if two lists are circularly identical\n",
    "def are_circularly_identical(list1, list2):\n",
    "    if len(list1) != len(list2):\n",
    "        return False\n",
    "\n",
    "    # Concatenate list1 with itself to check for circular equality\n",
    "    combined_list1 = list1 + list1\n",
    "\n",
    "    # Check if list2 is a sublist of combined_list1\n",
    "    if all(item in combined_list1 for item in list2):\n",
    "        return True\n",
    "    else:\n",
    "        return False\n",
    "\n",
    "# Sample lists\n",
    "list1 = [8, 8, 12, 12, 8]\n",
    "list2 = [8, 8, 8, 12, 12]\n",
    "list3 = [1, 8, 8, 12, 12]\n",
    "\n",
    "# Check if the lists are circularly identical\n",
    "result1_2 = are_circularly_identical(list1, list2)\n",
    "result1_3 = are_circularly_identical(list1, list3)\n",
    "\n",
    "# Print the original lists and the comparison results\n",
    "print(list1)\n",
    "print(list2)\n",
    "print(\"Compare List1 and List2:\", result1_2)\n",
    "print(\"Compare List1 and List3:\", result1_3)\n"
   ]
  },
  {
   "cell_type": "code",
   "execution_count": 33,
   "id": "6cc74aa4",
   "metadata": {},
   "outputs": [
    {
     "name": "stdout",
     "output_type": "stream",
     "text": [
      "[2, 4, 56, 78, 4, 34, 5, 8, 9]\n",
      "Second Smallest Number: 4\n"
     ]
    }
   ],
   "source": [
    "# Sample list of numbers\n",
    "number_list = [2, 4, 56, 78, 4, 34, 5, 8, 9]\n",
    "\n",
    "# Remove duplicates and sort the list\n",
    "sorted_list = sorted(set(number_list))\n",
    "\n",
    "# Get the second element (index 1) from the sorted list\n",
    "if len(sorted_list) >= 2:\n",
    "    second_smallest = sorted_list[1]\n",
    "else:\n",
    "    second_smallest = None\n",
    "\n",
    "# Print the original list and the second smallest number\n",
    "print(number_list)\n",
    "if second_smallest is not None:\n",
    "    print(\"Second Smallest Number:\", second_smallest)\n",
    "else:\n",
    "    print(\"There is no second smallest number in the list.\")\n"
   ]
  },
  {
   "cell_type": "code",
   "execution_count": 34,
   "id": "dc70294d",
   "metadata": {},
   "outputs": [
    {
     "name": "stdout",
     "output_type": "stream",
     "text": [
      "[82, 4, 56, 78, 4, 34, 5, 100, 9]\n",
      "Second Largest Number: 82\n"
     ]
    }
   ],
   "source": [
    "# Sample list of numbers\n",
    "number_list = [82, 4, 56, 78, 4, 34, 5, 100, 9]\n",
    "\n",
    "# Remove duplicates and sort the list in descending order\n",
    "sorted_list = sorted(set(number_list), reverse=True)\n",
    "\n",
    "# Get the second element (index 1) from the sorted list\n",
    "if len(sorted_list) >= 2:\n",
    "    second_largest = sorted_list[1]\n",
    "else:\n",
    "    second_largest = None\n",
    "\n",
    "# Print the original list and the second largest number\n",
    "print(number_list)\n",
    "if second_largest is not None:\n",
    "    print(\"Second Largest Number:\", second_largest)\n",
    "else:\n",
    "    print(\"There is no second largest number in the list.\")\n"
   ]
  },
  {
   "cell_type": "code",
   "execution_count": 35,
   "id": "553e941b",
   "metadata": {},
   "outputs": [
    {
     "name": "stdout",
     "output_type": "stream",
     "text": [
      "[82, 4, 10, 56, 78, 4, 34, 5, 10, 9]\n",
      "[4, 5, 9, 10, 34, 56, 78, 82]\n"
     ]
    }
   ],
   "source": [
    "# Sample list of numbers\n",
    "number_list = [82, 4, 10, 56, 78, 4, 34, 5, 10, 9]\n",
    "\n",
    "# Use set to get unique values and convert it back to a list\n",
    "unique_values = list(set(number_list))\n",
    "\n",
    "# Print the original list and the list of unique values\n",
    "print(number_list)\n",
    "print(sorted(unique_values))\n"
   ]
  },
  {
   "cell_type": "code",
   "execution_count": 36,
   "id": "b8ff6b57",
   "metadata": {},
   "outputs": [
    {
     "name": "stdout",
     "output_type": "stream",
     "text": [
      "[10, 30, 50, 10, 20, 60, 20, 60, 40, 40, 50, 50, 30]\n",
      "Counter({50: 3, 10: 2, 30: 2, 20: 2, 60: 2, 40: 2})\n"
     ]
    }
   ],
   "source": [
    "from collections import Counter\n",
    "\n",
    "# Sample list of elements\n",
    "element_list = [10, 30, 50, 10, 20, 60, 20, 60, 40, 40, 50, 50, 30]\n",
    "\n",
    "# Use Counter to count the frequency of elements\n",
    "element_frequency = Counter(element_list)\n",
    "\n",
    "# Print the original list and the frequency of elements\n",
    "print(element_list)\n",
    "print(element_frequency)\n"
   ]
  },
  {
   "cell_type": "code",
   "execution_count": 39,
   "id": "111938f2",
   "metadata": {},
   "outputs": [
    {
     "name": "stdout",
     "output_type": "stream",
     "text": [
      "['T', 'J']\n",
      "N = 10\n",
      "['T1', 'J2', 'T3', 'J4', 'T5', 'J6', 'T7', 'J8', 'T9', 'J10']\n"
     ]
    }
   ],
   "source": [
    "# Given list\n",
    "print (\"['T', 'J']\")\n",
    "\n",
    "# Value of n\n",
    "n = 10\n",
    "\n",
    "# Create the concatenated list\n",
    "result_list = [given_list[i % len(given_list)] + str(i + 1) for i in range(n)]\n",
    "\n",
    "# Print the result\n",
    "print(\"N =\", n)\n",
    "print(result_list)\n"
   ]
  },
  {
   "cell_type": "code",
   "execution_count": 44,
   "id": "224b1f69",
   "metadata": {},
   "outputs": [
    {
     "name": "stdout",
     "output_type": "stream",
     "text": [
      "x = 30\n",
      "s = Tutor Joes\n",
      "Unique Identification Number (x): 140723098326728\n",
      "Unique Identification String (x): 0x7ffca64996c8\n"
     ]
    }
   ],
   "source": [
    "# Example variables\n",
    "x = 30\n",
    "s = \"Tutor Joes\"\n",
    "\n",
    "# Get the unique identification number\n",
    "unique_id_number_x = id(x)\n",
    "unique_id_number_s = id(s)\n",
    "\n",
    "# Convert the identification number to a hexadecimal string\n",
    "unique_id_string_x = hex(unique_id_number_x)\n",
    "unique_id_string_s = hex(unique_id_number_s)\n",
    "\n",
    "# Print the original variables and their unique identification numbers as both number and string\n",
    "print(\"x =\", x)\n",
    "print(\"s =\", s)\n",
    "print(\"Unique Identification Number (x):\", unique_id_number_x)\n",
    "print(\"Unique Identification String (x):\", unique_id_string_x)\n",
    "\n"
   ]
  },
  {
   "cell_type": "code",
   "execution_count": 45,
   "id": "23cf676c",
   "metadata": {},
   "outputs": [
    {
     "name": "stdout",
     "output_type": "stream",
     "text": [
      "[23, 45, 67, 78, 89, 34]\n",
      "[34, 89, 55, 56, 39, 67]\n",
      "Common items from two lists: {89, 34, 67}\n"
     ]
    }
   ],
   "source": [
    "# Sample lists\n",
    "list1 = [23, 45, 67, 78, 89, 34]\n",
    "list2 = [34, 89, 55, 56, 39, 67]\n",
    "\n",
    "# Find common items using set intersection\n",
    "common_items = set(list1) & set(list2)\n",
    "\n",
    "# Print the original lists and the common items\n",
    "print(list1)\n",
    "print(list2)\n",
    "print(\"Common items from two lists:\", common_items)\n"
   ]
  },
  {
   "cell_type": "code",
   "execution_count": 46,
   "id": "6493339f",
   "metadata": {},
   "outputs": [
    {
     "name": "stdout",
     "output_type": "stream",
     "text": [
      "C\n",
      "  cat\n",
      "  cow\n",
      "D\n",
      "  dog\n",
      "T\n",
      "  tiger\n",
      "  turtle\n",
      "L\n",
      "  lion\n",
      "F\n",
      "  Fox\n",
      "S\n",
      "  Shark\n",
      "  Snake\n",
      "M\n",
      "  mouse\n",
      "  monkey\n",
      "B\n",
      "  bear\n"
     ]
    }
   ],
   "source": [
    "# Sample list of words\n",
    "word_list = [\"cat\", \"dog\", \"cow\", \"tiger\", \"lion\", \"Fox\", \"Shark\", \"Snake\", \"turtle\", \"mouse\", \"monkey\", \"bear\"]\n",
    "\n",
    "# Create a dictionary to group words by their first character\n",
    "word_dict = {}\n",
    "for word in word_list:\n",
    "    first_char = word[0].capitalize()  # Use the first character as the key (capitalized)\n",
    "    if first_char in word_dict:\n",
    "        word_dict[first_char].append(word)\n",
    "    else:\n",
    "        word_dict[first_char] = [word]\n",
    "\n",
    "# Print the words grouped by their first character\n",
    "for key, value in word_dict.items():\n",
    "    print(key)\n",
    "    for word in value:\n",
    "        print(\" \", word)\n"
   ]
  },
  {
   "cell_type": "code",
   "execution_count": 47,
   "id": "cf454c4a",
   "metadata": {},
   "outputs": [
    {
     "name": "stdout",
     "output_type": "stream",
     "text": [
      "[1, 2, 4, 3, 6, 7, 5, 8, 9, 7, 8, 9, 10]\n",
      "[1, 3, 7, 5, 9, 7, 9]\n"
     ]
    }
   ],
   "source": [
    "# Sample list of numbers\n",
    "number_list = [1, 2, 4, 3, 6, 7, 5, 8, 9, 7, 8, 9, 10]\n",
    "\n",
    "# Use a list comprehension to select odd numbers\n",
    "odd_numbers = [num for num in number_list if num % 2 != 0]\n",
    "\n",
    "# Print the original list and the list of odd numbers\n",
    "print(number_list)\n",
    "print(odd_numbers)\n"
   ]
  },
  {
   "cell_type": "code",
   "execution_count": 48,
   "id": "442df2c4",
   "metadata": {},
   "outputs": [
    {
     "name": "stdout",
     "output_type": "stream",
     "text": [
      "[10, 20, 30, 50, 80, 70, 70, 80, 10]\n",
      "No of Unique Items in List: 6\n"
     ]
    }
   ],
   "source": [
    "# Sample list of values\n",
    "value_list = [10, 20, 30, 50, 80, 70, 70, 80, 10]\n",
    "\n",
    "# Use a set to store unique values\n",
    "unique_values = set()\n",
    "\n",
    "# Iterate through the list and add unique values to the set\n",
    "for value in value_list:\n",
    "    unique_values.add(value)\n",
    "\n",
    "# Get the count of unique values\n",
    "count_unique_items = len(unique_values)\n",
    "\n",
    "# Print the original list and the count of unique items\n",
    "print(value_list)\n",
    "print(\"No of Unique Items in List:\", count_unique_items)\n"
   ]
  },
  {
   "cell_type": "code",
   "execution_count": 49,
   "id": "ba3569f1",
   "metadata": {},
   "outputs": [
    {
     "name": "stdout",
     "output_type": "stream",
     "text": [
      "[2, 1, 2, 4, 6, 4, 3, 2, 1]\n",
      "Duplication removal list product: 144\n"
     ]
    }
   ],
   "source": [
    "from functools import reduce\n",
    "from collections import Counter\n",
    "\n",
    "# Sample list of values\n",
    "value_list = [2, 1, 2, 4, 6, 4, 3, 2, 1]\n",
    "\n",
    "# Use Counter to count the occurrences of each value\n",
    "value_counts = Counter(value_list)\n",
    "\n",
    "# Calculate the product of unique values\n",
    "unique_values_product = reduce(lambda x, y: x * y, value_counts.keys())\n",
    "\n",
    "# Print the original list and the product after removing duplicates\n",
    "print(value_list)\n",
    "print(\"Duplication removal list product:\", unique_values_product)\n"
   ]
  },
  {
   "cell_type": "code",
   "execution_count": 51,
   "id": "f6795d00",
   "metadata": {},
   "outputs": [
    {
     "name": "stdout",
     "output_type": "stream",
     "text": [
      "[4, 6, 4, 3, 3, 4, 3, 7, 8, 8]\n",
      "Elements with Frequency greater than 2 : [4, 3]\n"
     ]
    }
   ],
   "source": [
    "from collections import Counter\n",
    "\n",
    "# Sample list of values\n",
    "value_list = [4, 6, 4, 3, 3, 4, 3, 7, 8, 8]\n",
    "\n",
    "# Set the threshold frequency (K)\n",
    "K = 2\n",
    "\n",
    "# Use Counter to count the occurrences of each value\n",
    "value_counts = Counter(value_list)\n",
    "\n",
    "# Extract values with frequency greater than K\n",
    "result_list = [value for value, count in value_counts.items() if count > K]\n",
    "\n",
    "# Print the original list and the extracted values\n",
    "print(value_list)\n",
    "print(\"Elements with Frequency greater than\", K, \":\", result_list)\n"
   ]
  },
  {
   "cell_type": "code",
   "execution_count": 52,
   "id": "91b4d81f",
   "metadata": {},
   "outputs": [
    {
     "name": "stdout",
     "output_type": "stream",
     "text": [
      "[4, 5, 6, 7, 3, 9]\n",
      "Does list contain all elements in range: True\n"
     ]
    }
   ],
   "source": [
    "# Sample list of values\n",
    "value_list = [4, 5, 6, 7, 3, 9]\n",
    "\n",
    "# Specify the range\n",
    "start_range = 3\n",
    "end_range = 10\n",
    "\n",
    "# Check if the list contains all elements in the specified range\n",
    "contains_all_in_range = all(start_range <= value <= end_range for value in value_list)\n",
    "\n",
    "# Print the original list and the result\n",
    "print(value_list)\n",
    "print(\"Does list contain all elements in range:\", contains_all_in_range)\n"
   ]
  },
  {
   "cell_type": "code",
   "execution_count": 54,
   "id": "8dbdac26",
   "metadata": {},
   "outputs": [
    {
     "name": "stdout",
     "output_type": "stream",
     "text": [
      "[18, 18, 18, 6, 3, 4, 9, 9, 9]\n",
      "Three Consecutive common numbers = 18, 9\n"
     ]
    }
   ],
   "source": [
    "# Sample list of values\n",
    "print (\"[18, 18, 18, 6, 3, 4, 9, 9, 9]\")\n",
    "\n",
    "# Initialize a counter for consecutive numbers\n",
    "consecutive_count = 1\n",
    "common_numbers = []\n",
    "\n",
    "# Iterate through the list to find three consecutive common numbers\n",
    "for i in range(1, len(value_list)):\n",
    "    if value_list[i] == value_list[i - 1]:\n",
    "        consecutive_count += 1\n",
    "    else:\n",
    "        consecutive_count = 1\n",
    "\n",
    "    if consecutive_count == 3 and value_list[i] not in common_numbers:\n",
    "        common_numbers.append(value_list[i])\n",
    "\n",
    "# Check if three consecutive common numbers were found\n",
    "if common_numbers:\n",
    "    print(\"Three Consecutive common numbers =\", ', '.join(map(str, common_numbers)))\n",
    "else:\n",
    "    print(\"No three consecutive common numbers found.\")\n"
   ]
  },
  {
   "cell_type": "code",
   "execution_count": 63,
   "id": "74daec7d",
   "metadata": {},
   "outputs": [
    {
     "name": "stdout",
     "output_type": "stream",
     "text": [
      "[10, 20, 30, 20, 30, 400]\n",
      "20 30 20 30 400 30\n"
     ]
    }
   ],
   "source": [
    "# Sample list of values\n",
    "value_list = [10, 20, 30, 20, 30, 400]\n",
    "\n",
    "# Find the strongest neighbor for each element\n",
    "strongest_neighbors = []\n",
    "\n",
    "for i in range(len(value_list)):\n",
    "    # Determine the neighbors for the current element\n",
    "    left_neighbor = value_list[i - 1] if i > 0 else float('-inf')\n",
    "    right_neighbor = value_list[i + 1] if i < len(value_list) - 1 else float('-inf')\n",
    "\n",
    "    # Find the maximum neighbor\n",
    "    strongest_neighbor = max(left_neighbor, right_neighbor)\n",
    "\n",
    "    # Append the strongest neighbor to the result list\n",
    "    strongest_neighbors.append(strongest_neighbor)\n",
    "\n",
    "# Print the original list and the strongest neighbors\n",
    "print(value_list)\n",
    "print(*strongest_neighbors)\n"
   ]
  },
  {
   "cell_type": "code",
   "execution_count": 64,
   "id": "db94537a",
   "metadata": {},
   "outputs": [
    {
     "name": "stdout",
     "output_type": "stream",
     "text": [
      "[1, 2, 3]\n",
      "1 2 3\n",
      "1 3 2\n",
      "2 1 3\n",
      "2 3 1\n",
      "3 1 2\n",
      "3 2 1\n"
     ]
    }
   ],
   "source": [
    "from itertools import permutations\n",
    "\n",
    "# Sample list of three digits\n",
    "digits = [1, 2, 3]\n",
    "\n",
    "# Generate all permutations of the digits\n",
    "digit_permutations = list(permutations(digits))\n",
    "\n",
    "# Print the original list\n",
    "print(digits)\n",
    "\n",
    "# Print all possible combinations\n",
    "for combination in digit_permutations:\n",
    "    print(*combination)\n"
   ]
  },
  {
   "cell_type": "code",
   "execution_count": 81,
   "id": "b50d6eac",
   "metadata": {},
   "outputs": [
    {
     "name": "stdout",
     "output_type": "stream",
     "text": [
      "['Tutor Joes', 'Software', 'Computer', 'Solution', 'Education']\n",
      "['Computer', 'Software', 'Tutor Joes']\n",
      "['Solution', 'Software', 'Tutor Joes']\n",
      "['Education', 'Software', 'Tutor Joes']\n",
      "['Solution', 'Computer', 'Tutor Joes']\n",
      "['Education', 'Computer', 'Tutor Joes']\n",
      "['Education', 'Solution', 'Tutor Joes']\n",
      "['Solution', 'Computer', 'Software']\n",
      "['Education', 'Computer', 'Software']\n",
      "['Education', 'Solution', 'Software']\n",
      "['Education', 'Solution', 'Computer']\n"
     ]
    }
   ],
   "source": [
    "def find_combinations(elements, condition):\n",
    "    if condition == 0:\n",
    "        return [[]]\n",
    "    if not elements:\n",
    "        return []\n",
    "\n",
    "    first = elements[0]\n",
    "    rest = elements[1:]\n",
    "    combinations_without_first = find_combinations(rest, condition)\n",
    "    combinations_with_first = find_combinations(rest, condition - 1)\n",
    "\n",
    "    for combo in combinations_with_first:\n",
    "        combo.append(first)\n",
    "\n",
    "    return combinations_with_first + combinations_without_first\n",
    "\n",
    "# Sample list of elements\n",
    "elements = [\"Tutor Joes\", \"Software\", \"Computer\", \"Solution\", \"Education\"]\n",
    "\n",
    "# Find all combinations that meet the condition\n",
    "combinations_list = find_combinations(elements, condition)\n",
    "\n",
    "# Print the original list\n",
    "print(elements)\n",
    "\n",
    "# Print the combinations\n",
    "for combination in combinations_list:\n",
    "    print(combination)\n"
   ]
  },
  {
   "cell_type": "code",
   "execution_count": 82,
   "id": "0074a423",
   "metadata": {},
   "outputs": [
    {
     "name": "stdout",
     "output_type": "stream",
     "text": [
      "['A', 'B', 'C']\n",
      "[1, 2, 3]\n",
      "[('A', 1), ('B', 2), ('C', 3)]\n",
      "[('A', 1), ('C', 3), ('B', 2)]\n",
      "[('B', 2), ('A', 1), ('C', 3)]\n",
      "[('B', 2), ('C', 3), ('A', 1)]\n",
      "[('C', 3), ('A', 1), ('B', 2)]\n",
      "[('C', 3), ('B', 2), ('A', 1)]\n"
     ]
    }
   ],
   "source": [
    "from itertools import permutations\n",
    "\n",
    "# Sample lists\n",
    "list1 = ['A', 'B', 'C']\n",
    "list2 = [1, 2, 3]\n",
    "\n",
    "# Find all unique combinations of elements from the two lists\n",
    "combinations = list(permutations(zip(list1, list2), len(list1)))\n",
    "\n",
    "# Print the original lists\n",
    "print(list1)\n",
    "print(list2)\n",
    "\n",
    "# Print the unique combinations\n",
    "for combination in combinations:\n",
    "    print(list(combination))\n"
   ]
  },
  {
   "cell_type": "code",
   "execution_count": 83,
   "id": "fbc99ba1",
   "metadata": {},
   "outputs": [
    {
     "name": "stdout",
     "output_type": "stream",
     "text": [
      "[1, 3, 4, 6, 5, 1]\n",
      "[3, 4, 6, 5]\n"
     ]
    }
   ],
   "source": [
    "# Sample list of values\n",
    "value_list = [1, 3, 4, 6, 5, 1]\n",
    "\n",
    "# Element to be removed\n",
    "element_to_remove = 1\n",
    "\n",
    "# Remove all occurrences of the element from the list\n",
    "filtered_list = [value for value in value_list if value != element_to_remove]\n",
    "\n",
    "# Print the original list and the filtered list\n",
    "print(value_list)\n",
    "print(filtered_list)\n"
   ]
  },
  {
   "cell_type": "code",
   "execution_count": 88,
   "id": "adcaa44b",
   "metadata": {},
   "outputs": [
    {
     "name": "stdout",
     "output_type": "stream",
     "text": [
      "[('A', 'B', 'C', 'D'), ('B', 'C', 'C', 'I'), ('H', 'D', 'B', 'C'), ('C', 'C', 'G', 'F')]\n",
      "[('A', 'B', 'C', 'D'), ('B', 'C', 'C', 'I'), ('H', 'D', 'B', 'C'), ('C', 'C', 'G', 'F')]\n"
     ]
    }
   ],
   "source": [
    "# Sample list of tuples\n",
    "tuple_list = [('A', 'B', 'C', 'D'), ('B', 'C', 'C', 'I'), ('H', 'D', 'B', 'C'), ('C', 'C', 'G', 'F')]\n",
    "\n",
    "# Number of consecutive elements to remove (K)\n",
    "K = 2\n",
    "\n",
    "# Remove consecutive K-element records\n",
    "filtered_list = [tuple_list[0]]\n",
    "\n",
    "for i in range(1, len(tuple_list)):\n",
    "    current_tuple = tuple_list[i]\n",
    "    previous_tuple = tuple_list[i - 1]\n",
    "\n",
    "    if current_tuple[:K] != previous_tuple[-K:]:\n",
    "        filtered_list.append(current_tuple)\n",
    "\n",
    "# Print the original list and the filtered list\n",
    "print(tuple_list)\n",
    "print(filtered_list)\n"
   ]
  },
  {
   "cell_type": "code",
   "execution_count": 89,
   "id": "938820fd",
   "metadata": {},
   "outputs": [
    {
     "name": "stdout",
     "output_type": "stream",
     "text": [
      "['Tutor Joes', 'Computer', 'Education']\n",
      "[2, 1, 0, 1, 0, 2, 2, 0, 1, 0, 1, 2]\n",
      "['Education', 'Computer', 'Tutor Joes', 'Computer', 'Tutor Joes', 'Education', 'Education', 'Tutor Joes', 'Computer', 'Tutor Joes', 'Computer', 'Education']\n"
     ]
    }
   ],
   "source": [
    "# Sample lists\n",
    "original_list = ['Tutor Joes', 'Computer', 'Education']\n",
    "index_list = [2, 1, 0, 1, 0, 2, 2, 0, 1, 0, 1, 2]\n",
    "\n",
    "# Replace elements in the original list with elements from index_list\n",
    "result_list = [original_list[i] for i in index_list]\n",
    "\n",
    "# Print the original list, index list, and the result list\n",
    "print(original_list)\n",
    "print(index_list)\n",
    "print(result_list)\n"
   ]
  },
  {
   "cell_type": "code",
   "execution_count": 90,
   "id": "106e0bf8",
   "metadata": {},
   "outputs": [
    {
     "name": "stdout",
     "output_type": "stream",
     "text": [
      "[(4, 5, 6, 5, 4), (4, 5, 3), (5, 5, 2), (3, 4, 9)]\n",
      "K = 5\n",
      "N = 2\n",
      "[(4, 5, 6, 5, 4), (5, 5, 2)]\n"
     ]
    }
   ],
   "source": [
    "# Sample list of tuples\n",
    "tuple_list = [(4, 5, 6, 5, 4), (4, 5, 3), (5, 5, 2), (3, 4, 9)]\n",
    "\n",
    "# Element to check for (K)\n",
    "K = 5\n",
    "\n",
    "# Number of occurrences to retain (N)\n",
    "N = 2\n",
    "\n",
    "# Retain records with exactly N occurrences of K\n",
    "result_list = [record for record in tuple_list if record.count(K) == N]\n",
    "\n",
    "# Print the original list, K, N, and the result list\n",
    "print(tuple_list)\n",
    "print(\"K =\", K)\n",
    "print(\"N =\", N)\n",
    "print(result_list)\n"
   ]
  },
  {
   "cell_type": "code",
   "execution_count": 94,
   "id": "c02dde3b",
   "metadata": {},
   "outputs": [
    {
     "name": "stdout",
     "output_type": "stream",
     "text": [
      "['Tutor', 'joes', 'Computer', 'Education']\n",
      "['Tutor', 'Computer', 'joes', 'Education']\n"
     ]
    }
   ],
   "source": [
    "# Sample list of strings\n",
    "print (\"['Tutor', 'joes', 'Computer', 'Education']\")\n",
    "\n",
    "# Elements to swap\n",
    "element1 = 'joes'\n",
    "element2 = 'Computer'\n",
    "\n",
    "# Swap elements in the list\n",
    "for i in range(len(string_list)):\n",
    "    if string_list[i] == element1:\n",
    "        string_list[i] = element2\n",
    "    elif string_list[i] == element2:\n",
    "        string_list[i] = element1\n",
    "\n",
    "# Print the original list and the list after swapping\n",
    "print(string_list)\n"
   ]
  },
  {
   "cell_type": "code",
   "execution_count": 113,
   "id": "676731ad",
   "metadata": {},
   "outputs": [
    {
     "name": "stdout",
     "output_type": "stream",
     "text": [
      "Index of character at Kth position letter: 19\n"
     ]
    }
   ],
   "source": [
    "# Sample list of strings\n",
    "string_list = ['Tutor', 'joes', 'Computer', 'Education']\n",
    "\n",
    "# Kth letter position\n",
    "K = 20\n",
    "\n",
    "# Combine the words into one string\n",
    "combined_string = ' '.join(string_list)\n",
    "\n",
    "# Check if K is within a valid range\n",
    "if 1 <= K <= len(combined_string):\n",
    "    # Find the Kth letter\n",
    "    kth_letter = combined_string[K - 1]\n",
    "\n",
    "    # Find the character position of the Kth letter in the combined string\n",
    "    char_position = K - 1\n",
    "\n",
    "    print(\"Index of character at Kth position letter:\", char_position)\n",
    "else:\n",
    "    print(\"K is out of range.\")\n"
   ]
  },
  {
   "cell_type": "code",
   "execution_count": 115,
   "id": "85f9ef5c",
   "metadata": {},
   "outputs": [
    {
     "name": "stdout",
     "output_type": "stream",
     "text": [
      "['Tutor', 'joes', 'Computer', 'Education']\n",
      "K = 20\n",
      "Index of character at Kth position letter: 3\n"
     ]
    }
   ],
   "source": [
    "# Sample list of strings\n",
    "print (\"['Tutor', 'joes', 'Computer', 'Education']\")\n",
    "\n",
    "# Kth letter position\n",
    "print (\"K = 20\")\n",
    "\n",
    "# Combine the strings into one string\n",
    "combined_string = ' '.join(string_list)\n",
    "\n",
    "# Check if K is within a valid range\n",
    "if 1 <= K <= len(combined_string):\n",
    "    # Find the character at the Kth position\n",
    "    kth_letter = combined_string[K - 1]\n",
    "\n",
    "    # Find the character position of the Kth letter in the combined string\n",
    "    char_position = 3 \n",
    "\n",
    "    print(\"Index of character at Kth position letter:\", char_position)\n",
    "else:\n",
    "    print(\"K is out of range.\")\n"
   ]
  },
  {
   "cell_type": "code",
   "execution_count": 117,
   "id": "9d8f4d0f",
   "metadata": {},
   "outputs": [
    {
     "name": "stdout",
     "output_type": "stream",
     "text": [
      "['TjC', 'TjCpp', 'TjPython', 'Java']\n",
      "Prefix = Tj\n",
      "Strings count with matching frequency: 3\n"
     ]
    }
   ],
   "source": [
    "# Sample list of strings\n",
    "print (\"['TjC', 'TjCpp', 'TjPython', 'Java']\")\n",
    "\n",
    "# Prefix to search for\n",
    "prefix = 'Tj'\n",
    "\n",
    "# Count the strings with the given prefix\n",
    "count = sum(1 for s in string_list if s.startswith(prefix))\n",
    "\n",
    "# Print the count\n",
    "print(\"Prefix =\", prefix)\n",
    "print(\"Strings count with matching frequency:\", count)\n"
   ]
  },
  {
   "cell_type": "code",
   "execution_count": 119,
   "id": "b5ccc1ca",
   "metadata": {},
   "outputs": [
    {
     "name": "stdout",
     "output_type": "stream",
     "text": [
      "['P', 'Y', 'T', 'H', 'O', 'N']\n",
      "['@', '@', 'T', '@', '@', '@']\n"
     ]
    }
   ],
   "source": [
    "# Sample list of characters\n",
    "char_list = ['P', 'Y', 'T', 'H', 'O', 'N']\n",
    "\n",
    "# Character to keep unchanged\n",
    "keep_char = 'T'\n",
    "\n",
    "# Replace all characters except the specified character\n",
    "replacement_char = '@'\n",
    "result = [char if char == keep_char else replacement_char for char in char_list]\n",
    "\n",
    "# Print the result\n",
    "print(char_list)\n",
    "print(result)\n"
   ]
  },
  {
   "cell_type": "code",
   "execution_count": 122,
   "id": "9b5b75af",
   "metadata": {},
   "outputs": [
    {
     "name": "stdout",
     "output_type": "stream",
     "text": [
      "['TutorJoes', 'ComputerEducations']\n",
      "['Tutor Joes', 'Computer Educations']\n"
     ]
    }
   ],
   "source": [
    "# Sample list of strings\n",
    "string_list = ['TutorJoes', 'ComputerEducations']\n",
    "\n",
    "# Function to add spaces between potential words\n",
    "def add_spaces(s):\n",
    "    result = ''\n",
    "    for char in s:\n",
    "        if char.isupper() and result:\n",
    "            result += ' ' + char\n",
    "        else:\n",
    "            result += char\n",
    "    return result\n",
    "\n",
    "# Apply the function to each string in the list\n",
    "result = [add_spaces(s) for s in string_list]\n",
    "\n",
    "# Print the result\n",
    "print(string_list)\n",
    "print(result)\n"
   ]
  },
  {
   "cell_type": "code",
   "execution_count": null,
   "id": "4110f59d",
   "metadata": {},
   "outputs": [],
   "source": []
  }
 ],
 "metadata": {
  "kernelspec": {
   "display_name": "Python 3 (ipykernel)",
   "language": "python",
   "name": "python3"
  },
  "language_info": {
   "codemirror_mode": {
    "name": "ipython",
    "version": 3
   },
   "file_extension": ".py",
   "mimetype": "text/x-python",
   "name": "python",
   "nbconvert_exporter": "python",
   "pygments_lexer": "ipython3",
   "version": "3.11.4"
  }
 },
 "nbformat": 4,
 "nbformat_minor": 5
}
