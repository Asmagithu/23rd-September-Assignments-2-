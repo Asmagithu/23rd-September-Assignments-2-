{
 "cells": [
  {
   "cell_type": "code",
   "execution_count": 1,
   "id": "ba667477",
   "metadata": {},
   "outputs": [
    {
     "name": "stdout",
     "output_type": "stream",
     "text": [
      "Enter the quantity purchased: 50\n",
      "Enter the price per item: 12\n",
      "Total expenses: $540.00\n"
     ]
    }
   ],
   "source": [
    "# Input the quantity and price per item from the user\n",
    "quantity = int(input(\"Enter the quantity purchased: \"))\n",
    "price_per_item = float(input(\"Enter the price per item: \"))\n",
    "\n",
    "# Calculate the total expenses without any discount\n",
    "total_expenses = quantity * price_per_item\n",
    "\n",
    "# Check if a discount is applicable (quantity > 10)\n",
    "if quantity > 10:\n",
    "    # Calculate the discount amount (10% of total expenses)\n",
    "    discount = 0.10 * total_expenses\n",
    "    \n",
    "    # Apply the discount to the total expenses\n",
    "    total_expenses -= discount\n",
    "\n",
    "# Display the total expenses\n",
    "print(f\"Total expenses: ${total_expenses:.2f}\")\n"
   ]
  },
  {
   "cell_type": "code",
   "execution_count": 2,
   "id": "0528f995",
   "metadata": {},
   "outputs": [
    {
     "name": "stdout",
     "output_type": "stream",
     "text": [
      "Enter the current year: 2023\n",
      "Enter the year the employee joined the organization: 2017\n",
      "The employee is eligible for a bonus of Rs. 2500\n"
     ]
    }
   ],
   "source": [
    "# Input the current year and the year the employee joined the organization\n",
    "current_year = int(input(\"Enter the current year: \"))\n",
    "joining_year = int(input(\"Enter the year the employee joined the organization: \"))\n",
    "\n",
    "# Calculate the number of years the employee has served\n",
    "years_of_service = current_year - joining_year\n",
    "\n",
    "# Check if the employee is eligible for a bonus (more than 3 years of service)\n",
    "if years_of_service > 3:\n",
    "    bonus_amount = 2500\n",
    "    print(f\"The employee is eligible for a bonus of Rs. {bonus_amount}\")\n"
   ]
  },
  {
   "cell_type": "code",
   "execution_count": 3,
   "id": "1b87b5c5",
   "metadata": {},
   "outputs": [
    {
     "name": "stdout",
     "output_type": "stream",
     "text": [
      "Enter the employee's basic salary: 1400\n",
      "Gross Salary: Rs. 2800.00\n"
     ]
    }
   ],
   "source": [
    "# Input the employee's basic salary from the user\n",
    "basic_salary = float(input(\"Enter the employee's basic salary: \"))\n",
    "\n",
    "# Check if the basic salary is less than Rs. 1500\n",
    "if basic_salary < 1500:\n",
    "    # Calculate HRA (10% of basic salary)\n",
    "    HRA = 0.10 * basic_salary\n",
    "\n",
    "    # Calculate DA (90% of basic salary)\n",
    "    DA = 0.90 * basic_salary\n",
    "else:\n",
    "    # HRA is a fixed amount of Rs. 500\n",
    "    HRA = 500\n",
    "\n",
    "    # Calculate DA (98% of basic salary)\n",
    "    DA = 0.98 * basic_salary\n",
    "\n",
    "# Calculate gross salary (Basic Salary + HRA + DA)\n",
    "gross_salary = basic_salary + HRA + DA\n",
    "\n",
    "# Display the gross salary\n",
    "print(f\"Gross Salary: Rs. {gross_salary:.2f}\")\n"
   ]
  },
  {
   "cell_type": "code",
   "execution_count": 4,
   "id": "06d325e7",
   "metadata": {},
   "outputs": [
    {
     "name": "stdout",
     "output_type": "stream",
     "text": [
      "Enter marks obtained in subject 1: 50\n",
      "Enter marks obtained in subject 2: 60\n",
      "Enter marks obtained in subject 3: 80\n",
      "Enter marks obtained in subject 4: 40\n",
      "Enter marks obtained in subject 5: 90\n",
      "Division obtained: First division\n"
     ]
    }
   ],
   "source": [
    "# Input marks obtained in 5 different subjects from the user\n",
    "subject1 = float(input(\"Enter marks obtained in subject 1: \"))\n",
    "subject2 = float(input(\"Enter marks obtained in subject 2: \"))\n",
    "subject3 = float(input(\"Enter marks obtained in subject 3: \"))\n",
    "subject4 = float(input(\"Enter marks obtained in subject 4: \"))\n",
    "subject5 = float(input(\"Enter marks obtained in subject 5: \"))\n",
    "\n",
    "# Calculate the total marks\n",
    "total_marks = subject1 + subject2 + subject3 + subject4 + subject5\n",
    "\n",
    "# Calculate the percentage\n",
    "percentage = (total_marks / 500) * 100\n",
    "\n",
    "# Determine the division based on the percentage\n",
    "if percentage >= 60:\n",
    "    division = \"First division\"\n",
    "elif 50 <= percentage < 60:\n",
    "    division = \"Second division\"\n",
    "elif 40 <= percentage < 50:\n",
    "    division = \"Third division\"\n",
    "else:\n",
    "    division = \"Fail\"\n",
    "\n",
    "# Display the division obtained by the student\n",
    "print(f\"Division obtained: {division}\")\n"
   ]
  },
  {
   "cell_type": "code",
   "execution_count": 5,
   "id": "199e8596",
   "metadata": {},
   "outputs": [
    {
     "name": "stdout",
     "output_type": "stream",
     "text": [
      "Is the driver married? (yes/no): no\n",
      "Enter driver's gender (male/female): female\n",
      "Enter driver's age: 24\n",
      "The driver is not eligible for insurance.\n"
     ]
    }
   ],
   "source": [
    "# Input driver's marital status, gender, and age from the user\n",
    "marital_status = input(\"Is the driver married? (yes/no): \").lower()\n",
    "gender = input(\"Enter driver's gender (male/female): \").lower()\n",
    "age = int(input(\"Enter driver's age: \"))\n",
    "\n",
    "# Check eligibility for insurance based on the conditions\n",
    "if marital_status == \"yes\" or (gender == \"male\" and age > 30) or (gender == \"female\" and age > 25):\n",
    "    print(\"The driver is eligible for insurance.\")\n",
    "else:\n",
    "    print(\"The driver is not eligible for insurance.\")\n"
   ]
  },
  {
   "cell_type": "code",
   "execution_count": 6,
   "id": "224597ec",
   "metadata": {},
   "outputs": [
    {
     "name": "stdout",
     "output_type": "stream",
     "text": [
      "Enter gender (Male/Female): Female\n",
      "Enter years of service: 10\n",
      "Enter qualifications (Graduate/Post-Graduate): Graduate\n",
      "Calculated Salary: 9000\n"
     ]
    }
   ],
   "source": [
    "# Input gender, years of service, and qualifications from the user\n",
    "gender = input(\"Enter gender (Male/Female): \").strip().title()\n",
    "years_of_service = int(input(\"Enter years of service: \"))\n",
    "qualifications = input(\"Enter qualifications (Graduate/Post-Graduate): \").strip().title()\n",
    "\n",
    "# Initialize the base salary\n",
    "base_salary = 0\n",
    "\n",
    "# Determine the base salary based on gender, years of service, and qualifications\n",
    "if gender == \"Male\":\n",
    "    if years_of_service >= 10:\n",
    "        if qualifications == \"Post-Graduate\":\n",
    "            base_salary = 15000\n",
    "        elif qualifications == \"Graduate\":\n",
    "            base_salary = 10000\n",
    "    else:\n",
    "        if qualifications == \"Post-Graduate\":\n",
    "            base_salary = 10000\n",
    "        elif qualifications == \"Graduate\":\n",
    "            base_salary = 7000\n",
    "elif gender == \"Female\":\n",
    "    if years_of_service >= 10:\n",
    "        if qualifications == \"Post-Graduate\":\n",
    "            base_salary = 12000\n",
    "        elif qualifications == \"Graduate\":\n",
    "            base_salary = 9000\n",
    "    else:\n",
    "        if qualifications == \"Post-Graduate\":\n",
    "            base_salary = 10000\n",
    "        elif qualifications == \"Graduate\":\n",
    "            base_salary = 6000\n",
    "\n",
    "# Display the calculated salary\n",
    "print(f\"Calculated Salary: {base_salary}\")\n"
   ]
  },
  {
   "cell_type": "code",
   "execution_count": 7,
   "id": "3edb1783",
   "metadata": {},
   "outputs": [
    {
     "name": "stdout",
     "output_type": "stream",
     "text": [
      "Enter the cost price: 500\n",
      "Enter the selling price: 450\n",
      "The seller has made a Loss of Rs. 50.00\n"
     ]
    }
   ],
   "source": [
    "# Input the cost price and selling price from the user\n",
    "cost_price = float(input(\"Enter the cost price: \"))\n",
    "selling_price = float(input(\"Enter the selling price: \"))\n",
    "\n",
    "# Calculate profit or loss amount\n",
    "profit_or_loss = selling_price - cost_price\n",
    "\n",
    "# Determine whether there is profit or loss\n",
    "if profit_or_loss > 0:\n",
    "    result = \"Profit\"\n",
    "elif profit_or_loss < 0:\n",
    "    result = \"Loss\"\n",
    "else:\n",
    "    result = \"No Profit, No Loss\"\n",
    "\n",
    "# Display the result and amount of profit or loss\n",
    "print(f\"The seller has made a {result} of Rs. {abs(profit_or_loss):.2f}\")\n"
   ]
  },
  {
   "cell_type": "code",
   "execution_count": 8,
   "id": "2749f783",
   "metadata": {},
   "outputs": [
    {
     "name": "stdout",
     "output_type": "stream",
     "text": [
      "Enter an integer: 40\n",
      "40 is an even number.\n"
     ]
    }
   ],
   "source": [
    "# Input an integer from the user\n",
    "num = int(input(\"Enter an integer: \"))\n",
    "\n",
    "# Check if the number is odd or even using the modulus operator\n",
    "if num % 2 == 0:\n",
    "    print(f\"{num} is an even number.\")\n",
    "else:\n",
    "    print(f\"{num} is an odd number.\")\n"
   ]
  },
  {
   "cell_type": "code",
   "execution_count": 9,
   "id": "0d3aa669",
   "metadata": {},
   "outputs": [
    {
     "name": "stdout",
     "output_type": "stream",
     "text": [
      "Enter a five-digit number: 34621\n",
      "The original number 34621 is not equal to its reversed number 12643.\n"
     ]
    }
   ],
   "source": [
    "# Input a five-digit number from the user\n",
    "number = int(input(\"Enter a five-digit number: \"))\n",
    "\n",
    "# Check if the input is a five-digit number\n",
    "if 10000 <= number <= 99999:\n",
    "    # Calculate the reversed number\n",
    "    reversed_number = 0\n",
    "    original_number = number  # Store the original number for comparison\n",
    "    \n",
    "    while number > 0:\n",
    "        digit = number % 10\n",
    "        reversed_number = reversed_number * 10 + digit\n",
    "        number //= 10\n",
    "\n",
    "    # Determine whether the original and reversed numbers are equal\n",
    "    if original_number == reversed_number:\n",
    "        print(f\"The original number {original_number} is equal to its reversed number.\")\n",
    "    else:\n",
    "        print(f\"The original number {original_number} is not equal to its reversed number {reversed_number}.\")\n",
    "else:\n",
    "    print(\"Please enter a valid five-digit number.\")\n"
   ]
  },
  {
   "cell_type": "code",
   "execution_count": 14,
   "id": "f5904b2c",
   "metadata": {},
   "outputs": [
    {
     "name": "stdout",
     "output_type": "stream",
     "text": [
      "Enter Ram's age: 43\n",
      "Enter Shyam's age: 24\n",
      "Enter Ajay's age: 28\n",
      "The youngest person among Ram, Shyam, and Ajay is Shyam.\n"
     ]
    }
   ],
   "source": [
    "# Input ages of Ram, Shyam, and Ajay from the user\n",
    "ram_age = int(input(\"Enter Ram's age: \"))\n",
    "shyam_age = int(input(\"Enter Shyam's age: \"))\n",
    "ajay_age = int(input(\"Enter Ajay's age: \"))\n",
    "\n",
    "# Compare the ages to find the youngest\n",
    "if ram_age <= shyam_age and ram_age <= ajay_age:\n",
    "    youngest_name = \"Ram\"\n",
    "    youngest_age = ram_age\n",
    "elif shyam_age <= ram_age and shyam_age <= ajay_age:\n",
    "    youngest_name = \"Shyam\"\n",
    "    youngest_age = shyam_age\n",
    "else:\n",
    "    youngest_name = \"Ajay\"\n",
    "    youngest_age = ajay_age\n",
    "\n",
    "# Display the youngest person's name and age\n",
    "print(f\"The youngest person among Ram, Shyam, and Ajay is {youngest_name}.\")\n"
   ]
  },
  {
   "cell_type": "code",
   "execution_count": 15,
   "id": "c268beb7",
   "metadata": {},
   "outputs": [
    {
     "name": "stdout",
     "output_type": "stream",
     "text": [
      "Enter the first angle in degrees: 40\n",
      "Enter the second angle in degrees: 60\n",
      "Enter the third angle in degrees: 90\n",
      "The triangle is not valid.\n"
     ]
    }
   ],
   "source": [
    "# Input the three angles of the triangle from the user\n",
    "angle1 = float(input(\"Enter the first angle in degrees: \"))\n",
    "angle2 = float(input(\"Enter the second angle in degrees: \"))\n",
    "angle3 = float(input(\"Enter the third angle in degrees: \"))\n",
    "\n",
    "# Calculate the sum of the three angles\n",
    "sum_of_angles = angle1 + angle2 + angle3\n",
    "\n",
    "# Check if the triangle is valid\n",
    "if sum_of_angles == 180:\n",
    "    print(\"The triangle is valid.\")\n",
    "else:\n",
    "    print(\"The triangle is not valid.\")\n"
   ]
  },
  {
   "cell_type": "code",
   "execution_count": 16,
   "id": "b59713af",
   "metadata": {},
   "outputs": [
    {
     "name": "stdout",
     "output_type": "stream",
     "text": [
      "Enter a number: 352\n",
      "The absolute value of 352.0 is 352.0\n"
     ]
    }
   ],
   "source": [
    "# Input a number from the user\n",
    "number = float(input(\"Enter a number: \"))\n",
    "\n",
    "# Calculate the absolute value using the abs() function\n",
    "absolute_value = abs(number)\n",
    "\n",
    "# Display the absolute value\n",
    "print(f\"The absolute value of {number} is {absolute_value}\")\n"
   ]
  },
  {
   "cell_type": "code",
   "execution_count": 18,
   "id": "b250c44c",
   "metadata": {},
   "outputs": [
    {
     "name": "stdout",
     "output_type": "stream",
     "text": [
      "Enter the length of the rectangle: 7\n",
      "Enter the breadth of the rectangle: 2\n",
      "The area of the rectangle is not greater than its perimeter.\n"
     ]
    }
   ],
   "source": [
    "# Input the length and breadth of the rectangle from the user\n",
    "length = float(input(\"Enter the length of the rectangle: \"))\n",
    "breadth = float(input(\"Enter the breadth of the rectangle: \"))\n",
    "\n",
    "# Calculate the area and perimeter of the rectangle\n",
    "area = length * breadth\n",
    "perimeter = 2 * (length + breadth)\n",
    "\n",
    "# Check if the area is greater than the perimeter\n",
    "if area > perimeter:\n",
    "    print(\"The area of the rectangle is greater than its perimeter.\")\n",
    "else:\n",
    "    print(\"The area of the rectangle is not greater than its perimeter.\")\n"
   ]
  },
  {
   "cell_type": "code",
   "execution_count": 19,
   "id": "40eac00f",
   "metadata": {},
   "outputs": [
    {
     "name": "stdout",
     "output_type": "stream",
     "text": [
      "Enter a year: 2019\n",
      "2019 is not a leap year.\n"
     ]
    }
   ],
   "source": [
    "# Input a year from the user\n",
    "year = int(input(\"Enter a year: \"))\n",
    "\n",
    "# Check if the year is a leap year\n",
    "# Leap year conditions:\n",
    "# - Divisible by 4 but not divisible by 100\n",
    "# - Divisible by 400\n",
    "if (year % 4 == 0 and year % 100 != 0) or (year % 400 == 0):\n",
    "    print(f\"{year} is a leap year.\")\n",
    "else:\n",
    "    print(f\"{year} is not a leap year.\")\n"
   ]
  },
  {
   "cell_type": "code",
   "execution_count": 20,
   "id": "f38fc9f1",
   "metadata": {},
   "outputs": [
    {
     "name": "stdout",
     "output_type": "stream",
     "text": [
      "Enter the hardness value: 60\n",
      "Enter the carbon content value: 0.8\n",
      "Enter the tensile strength value: 4899\n",
      "The grade of steel is 6\n"
     ]
    }
   ],
   "source": [
    "# Input hardness, carbon content, and tensile strength from the user\n",
    "hardness = float(input(\"Enter the hardness value: \"))\n",
    "carbon_content = float(input(\"Enter the carbon content value: \"))\n",
    "tensile_strength = float(input(\"Enter the tensile strength value: \"))\n",
    "\n",
    "# Initialize the grade to 0 initially\n",
    "grade = 0\n",
    "\n",
    "# Check the conditions and assign the grade accordingly\n",
    "if hardness > 50 and carbon_content < 0.7 and tensile_strength > 5600:\n",
    "    grade = 10\n",
    "elif hardness > 50 and carbon_content < 0.7:\n",
    "    grade = 9\n",
    "elif carbon_content < 0.7 and tensile_strength > 5600:\n",
    "    grade = 8\n",
    "elif hardness > 50 and tensile_strength > 5600:\n",
    "    grade = 7\n",
    "elif hardness > 50 or carbon_content < 0.7 or tensile_strength > 5600:\n",
    "    grade = 6\n",
    "else:\n",
    "    grade = 5\n",
    "\n",
    "# Display the grade of steel\n",
    "print(f\"The grade of steel is {grade}\")\n"
   ]
  },
  {
   "cell_type": "code",
   "execution_count": 21,
   "id": "c242da09",
   "metadata": {},
   "outputs": [
    {
     "name": "stdout",
     "output_type": "stream",
     "text": [
      "Enter the number of days late: 28\n",
      "Fine amount: Rs. 97.50\n"
     ]
    }
   ],
   "source": [
    "# Input the number of days late from the user\n",
    "days_late = int(input(\"Enter the number of days late: \"))\n",
    "\n",
    "# Initialize the fine amount to 0 initially\n",
    "fine = 0\n",
    "\n",
    "# Check the number of days late and calculate the fine accordingly\n",
    "if days_late <= 5:\n",
    "    fine = days_late * 0.5  # 50 paise per day\n",
    "elif 6 <= days_late <= 10:\n",
    "    fine = (5 * 0.5) + ((days_late - 5) * 1)  # 50 paise for the first 5 days, then 1 rupee per day\n",
    "elif days_late > 10 and days_late <= 30:\n",
    "    fine = (5 * 0.5) + (5 * 1) + ((days_late - 10) * 5)  # 50 paise for the first 5 days, 1 rupee for the next 5 days, then 5 rupees per day\n",
    "\n",
    "# Check if membership is cancelled (more than 30 days late)\n",
    "if days_late > 30:\n",
    "    print(\"Your membership has been cancelled due to returning the book more than 30 days late.\")\n",
    "else:\n",
    "    # Display the fine amount\n",
    "    print(f\"Fine amount: Rs. {fine:.2f}\")\n"
   ]
  },
  {
   "cell_type": "code",
   "execution_count": 22,
   "id": "38222364",
   "metadata": {},
   "outputs": [
    {
     "name": "stdout",
     "output_type": "stream",
     "text": [
      "Enter the time taken by the worker (in hours): 4\n",
      "The worker is Training Required.\n"
     ]
    }
   ],
   "source": [
    "# Input the time taken by the worker from the user\n",
    "time_taken = float(input(\"Enter the time taken by the worker (in hours): \"))\n",
    "\n",
    "# Initialize the efficiency variable to None initially\n",
    "efficiency = None\n",
    "\n",
    "# Determine the efficiency based on the time taken\n",
    "if 2 <= time_taken < 3:\n",
    "    efficiency = \"Highly Efficient\"\n",
    "elif 3 <= time_taken < 4:\n",
    "    efficiency = \"Improve Speed\"\n",
    "elif 4 <= time_taken < 5:\n",
    "    efficiency = \"Training Required\"\n",
    "elif time_taken >= 5:\n",
    "    efficiency = \"Leave the Company\"\n",
    "\n",
    "# Display the worker's efficiency\n",
    "if efficiency is not None:\n",
    "    print(f\"The worker is {efficiency}.\")\n",
    "else:\n",
    "    print(\"Invalid input. Please enter a valid time taken.\")\n"
   ]
  },
  {
   "cell_type": "code",
   "execution_count": null,
   "id": "fa54e387",
   "metadata": {},
   "outputs": [],
   "source": []
  }
 ],
 "metadata": {
  "kernelspec": {
   "display_name": "Python 3 (ipykernel)",
   "language": "python",
   "name": "python3"
  },
  "language_info": {
   "codemirror_mode": {
    "name": "ipython",
    "version": 3
   },
   "file_extension": ".py",
   "mimetype": "text/x-python",
   "name": "python",
   "nbconvert_exporter": "python",
   "pygments_lexer": "ipython3",
   "version": "3.11.4"
  }
 },
 "nbformat": 4,
 "nbformat_minor": 5
}
