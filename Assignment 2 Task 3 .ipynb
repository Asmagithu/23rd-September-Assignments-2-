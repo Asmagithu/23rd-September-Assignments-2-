{
 "cells": [
  {
   "cell_type": "code",
   "execution_count": 1,
   "id": "0984efd0",
   "metadata": {},
   "outputs": [
    {
     "name": "stdout",
     "output_type": "stream",
     "text": [
      "Enter a number: 54\n",
      "The factors of 54 are: [1, 2, 3, 6, 9, 18, 27, 54]\n"
     ]
    }
   ],
   "source": [
    "# Input a number from the user\n",
    "number = int(input(\"Enter a number: \"))\n",
    "\n",
    "# Initialize an empty list to store the factors\n",
    "factors = []\n",
    "\n",
    "# Find the factors of the number\n",
    "for i in range(1, number + 1):\n",
    "    if number % i == 0:\n",
    "        factors.append(i)\n",
    "\n",
    "# Display the factors\n",
    "print(f\"The factors of {number} are: {factors}\")\n"
   ]
  },
  {
   "cell_type": "code",
   "execution_count": 2,
   "id": "33a9f995",
   "metadata": {},
   "outputs": [
    {
     "name": "stdout",
     "output_type": "stream",
     "text": [
      "Enter a number: 43\n",
      "43 is a prime number.\n"
     ]
    }
   ],
   "source": [
    "# Input a number from the user\n",
    "number = int(input(\"Enter a number: \"))\n",
    "\n",
    "# Check if the number is greater than 1\n",
    "if number > 1:\n",
    "    # Check for factors from 2 to the square root of the number\n",
    "    for i in range(2, int(number**0.5) + 1):\n",
    "        if number % i == 0:\n",
    "            print(f\"{number} is not a prime number.\")\n",
    "            break\n",
    "    else:\n",
    "        print(f\"{number} is a prime number.\")\n",
    "else:\n",
    "    print(f\"{number} is not a prime number.\")\n"
   ]
  },
  {
   "cell_type": "code",
   "execution_count": 3,
   "id": "8cda49e3",
   "metadata": {},
   "outputs": [
    {
     "name": "stdout",
     "output_type": "stream",
     "text": [
      "Enter a number: 67\n",
      "67 is not an Armstrong number.\n"
     ]
    }
   ],
   "source": [
    "# Input a number from the user\n",
    "number = int(input(\"Enter a number: \"))\n",
    "\n",
    "# Convert the number to a string to count its digits\n",
    "num_str = str(number)\n",
    "\n",
    "# Calculate the number of digits\n",
    "num_digits = len(num_str)\n",
    "\n",
    "# Initialize a variable to store the sum of digits raised to the power of the number of digits\n",
    "sum_of_digits = 0\n",
    "\n",
    "# Calculate the sum of digits raised to the power of the number of digits\n",
    "for digit_char in num_str:\n",
    "    digit = int(digit_char)\n",
    "    sum_of_digits += digit ** num_digits\n",
    "\n",
    "# Check if the number is an Armstrong number\n",
    "if number == sum_of_digits:\n",
    "    print(f\"{number} is an Armstrong number.\")\n",
    "else:\n",
    "    print(f\"{number} is not an Armstrong number.\")\n"
   ]
  },
  {
   "cell_type": "code",
   "execution_count": 4,
   "id": "e0884a9f",
   "metadata": {},
   "outputs": [
    {
     "name": "stdout",
     "output_type": "stream",
     "text": [
      "Armstrong numbers between 100 and 999:\n",
      "153\n",
      "370\n",
      "371\n",
      "407\n"
     ]
    }
   ],
   "source": [
    "# Function to check if a number is an Armstrong number\n",
    "def is_armstrong(number):\n",
    "    num_str = str(number)\n",
    "    num_digits = len(num_str)\n",
    "    sum_of_digits = 0\n",
    "    for digit_char in num_str:\n",
    "        digit = int(digit_char)\n",
    "        sum_of_digits += digit ** num_digits\n",
    "    return number == sum_of_digits\n",
    "\n",
    "# Find and print Armstrong numbers in the range of 100 to 999\n",
    "print(\"Armstrong numbers between 100 and 999:\")\n",
    "for num in range(100, 1000):\n",
    "    if is_armstrong(num):\n",
    "        print(num)\n"
   ]
  },
  {
   "cell_type": "code",
   "execution_count": 5,
   "id": "7a9e2a5e",
   "metadata": {},
   "outputs": [
    {
     "name": "stdout",
     "output_type": "stream",
     "text": [
      "Enter the upper limit: 59\n",
      "Number of even numbers between 1 and 59: 29\n",
      "Number of odd numbers between 1 and 59: 30\n"
     ]
    }
   ],
   "source": [
    "# Input the upper limit from the user\n",
    "upper_limit = int(input(\"Enter the upper limit: \"))\n",
    "\n",
    "# Initialize counters for even and odd numbers\n",
    "even_count = 0\n",
    "odd_count = 0\n",
    "\n",
    "# Iterate through numbers from 1 to the upper limit\n",
    "for number in range(1, upper_limit + 1):\n",
    "    if number % 2 == 0:\n",
    "        even_count += 1\n",
    "    else:\n",
    "        odd_count += 1\n",
    "\n",
    "# Print the counts of even and odd numbers\n",
    "print(f\"Number of even numbers between 1 and {upper_limit}: {even_count}\")\n",
    "print(f\"Number of odd numbers between 1 and {upper_limit}: {odd_count}\")\n"
   ]
  },
  {
   "cell_type": "code",
   "execution_count": 1,
   "id": "e1506de8",
   "metadata": {},
   "outputs": [
    {
     "name": "stdout",
     "output_type": "stream",
     "text": [
      "Enter the number of digits (n): 4\n",
      "Enter a 4-digit number: 6734\n",
      "The reverse of the 4-digit number is: 4376\n"
     ]
    }
   ],
   "source": [
    "# Input an n-digit number from the user\n",
    "n = int(input(\"Enter the number of digits (n): \"))\n",
    "number = int(input(f\"Enter a {n}-digit number: \"))\n",
    "\n",
    "# Initialize variables\n",
    "reversed_number = 0\n",
    "remaining_digits = number\n",
    "\n",
    "# Calculate the reverse of the number using a while loop\n",
    "while remaining_digits > 0:\n",
    "    digit = remaining_digits % 10  # Get the last digit\n",
    "    reversed_number = reversed_number * 10 + digit  # Add the digit to the reversed number\n",
    "    remaining_digits //= 10  # Remove the last digit\n",
    "\n",
    "# Display the reversed number\n",
    "print(f\"The reverse of the {n}-digit number is: {reversed_number}\")\n"
   ]
  },
  {
   "cell_type": "code",
   "execution_count": 3,
   "id": "a724f21f",
   "metadata": {},
   "outputs": [
    {
     "name": "stdout",
     "output_type": "stream",
     "text": [
      "Enter a decimal number: 58\n",
      "The binary representation of the decimal number is: 111010\n"
     ]
    }
   ],
   "source": [
    "# Input a decimal number from the user\n",
    "decimal_number = int(input(\"Enter a decimal number: \"))\n",
    "\n",
    "# Initialize an empty string to store the binary representation\n",
    "binary_number = \"\"\n",
    "\n",
    "# Convert decimal to binary using a while loop\n",
    "while decimal_number > 0:\n",
    "    remainder = decimal_number % 2  # Get the remainder when dividing by 2\n",
    "    binary_number = str(remainder) + binary_number  # Add the remainder to the left of the binary string\n",
    "    decimal_number //= 2  # Divide the decimal number by 2\n",
    "\n",
    "# Display the binary representation\n",
    "print(f\"The binary representation of the decimal number is: {binary_number}\")\n"
   ]
  },
  {
   "cell_type": "code",
   "execution_count": 4,
   "id": "c4a46f4d",
   "metadata": {},
   "outputs": [
    {
     "name": "stdout",
     "output_type": "stream",
     "text": [
      "Enter a binary number: 1010101\n",
      "The decimal equivalent of the binary number is: 85\n"
     ]
    }
   ],
   "source": [
    "# Input a binary number from the user\n",
    "binary_number = input(\"Enter a binary number: \")\n",
    "\n",
    "# Initialize a variable to store the decimal equivalent\n",
    "decimal_number = 0\n",
    "\n",
    "# Iterate through the binary digits from right to left\n",
    "for i in range(len(binary_number) - 1, -1, -1):\n",
    "    digit = int(binary_number[i])  # Get the current binary digit\n",
    "    power = len(binary_number) - 1 - i  # Calculate the corresponding power of 2\n",
    "    decimal_number += digit * (2 ** power)  # Calculate the decimal value\n",
    "\n",
    "# Display the decimal equivalent\n",
    "print(f\"The decimal equivalent of the binary number is: {decimal_number}\")\n"
   ]
  },
  {
   "cell_type": "code",
   "execution_count": 5,
   "id": "2016fad6",
   "metadata": {},
   "outputs": [
    {
     "name": "stdout",
     "output_type": "stream",
     "text": [
      "Enter a non-negative integer: 86\n",
      "The factorial of 86 is 24227095383672732381765523203441259715284870552429381750838764496720162249742450276789464634901319465571660595200000000000000000000\n"
     ]
    }
   ],
   "source": [
    "# Input a non-negative integer from the user\n",
    "n = int(input(\"Enter a non-negative integer: \"))\n",
    "\n",
    "# Initialize the factorial to 1\n",
    "factorial = 1\n",
    "\n",
    "# Check if n is negative\n",
    "if n < 0:\n",
    "    print(\"Factorial is not defined for negative numbers.\")\n",
    "elif n == 0:\n",
    "    print(\"The factorial of 0 is 1.\")\n",
    "else:\n",
    "    # Calculate the factorial using a for loop\n",
    "    for i in range(1, n + 1):\n",
    "        factorial *= i\n",
    "\n",
    "    # Display the factorial\n",
    "    print(f\"The factorial of {n} is {factorial}\")\n"
   ]
  },
  {
   "cell_type": "code",
   "execution_count": 8,
   "id": "e1c63cff",
   "metadata": {},
   "outputs": [
    {
     "name": "stdout",
     "output_type": "stream",
     "text": [
      "Enter the number of terms for the Fibonacci series: 9\n",
      "Fibonacci series:\n",
      "0 1 1 2 3 5 8 13 21 "
     ]
    }
   ],
   "source": [
    "# Input the number of terms for the Fibonacci series from the user\n",
    "n = int(input(\"Enter the number of terms for the Fibonacci series: \"))\n",
    "\n",
    "# Initialize the first two terms of the series\n",
    "a, b = 0, 1\n",
    "\n",
    "# Initialize a counter to keep track of the number of terms printed\n",
    "count = 0\n",
    "\n",
    "# Check if the input is valid (non-negative)\n",
    "if n <= 0:\n",
    "    print(\"Please enter a positive integer.\")\n",
    "elif n == 1:\n",
    "    print(\"Fibonacci series:\")\n",
    "    print(a)\n",
    "else:\n",
    "    print(\"Fibonacci series:\")\n",
    "    while count < n:\n",
    "        print(a, end=\" \")\n",
    "        next_term = a + b\n",
    "        a = b\n",
    "        b = next_term\n",
    "        count += 1\n"
   ]
  },
  {
   "cell_type": "code",
   "execution_count": 9,
   "id": "014ecf4b",
   "metadata": {},
   "outputs": [
    {
     "name": "stdout",
     "output_type": "stream",
     "text": [
      "Enter a positive integer: 51\n",
      "51 is not a perfect number.\n"
     ]
    }
   ],
   "source": [
    "# Input a positive integer from the user\n",
    "number = int(input(\"Enter a positive integer: \"))\n",
    "\n",
    "# Initialize a variable to store the sum of divisors\n",
    "divisor_sum = 0\n",
    "\n",
    "# Find the divisors of the number and calculate their sum\n",
    "for i in range(1, number):\n",
    "    if number % i == 0:\n",
    "        divisor_sum += i\n",
    "\n",
    "# Check if the number is a perfect number\n",
    "if divisor_sum == number:\n",
    "    print(f\"{number} is a perfect number.\")\n",
    "else:\n",
    "    print(f\"{number} is not a perfect number.\")\n",
    "\n"
   ]
  },
  {
   "cell_type": "code",
   "execution_count": 10,
   "id": "a7ea7d04",
   "metadata": {},
   "outputs": [
    {
     "name": "stdout",
     "output_type": "stream",
     "text": [
      "Perfect numbers between 1 and 1000:\n",
      "6\n",
      "28\n",
      "496\n"
     ]
    }
   ],
   "source": [
    "# Function to check if a number is a perfect number\n",
    "def is_perfect_number(number):\n",
    "    divisor_sum = 0\n",
    "    for i in range(1, number):\n",
    "        if number % i == 0:\n",
    "            divisor_sum += i\n",
    "    return divisor_sum == number\n",
    "\n",
    "# Find and print perfect numbers between 1 and 1000\n",
    "print(\"Perfect numbers between 1 and 1000:\")\n",
    "for num in range(1, 1001):\n",
    "    if is_perfect_number(num):\n",
    "        print(num)\n"
   ]
  },
  {
   "cell_type": "code",
   "execution_count": 11,
   "id": "148f7ff3",
   "metadata": {},
   "outputs": [
    {
     "name": "stdout",
     "output_type": "stream",
     "text": [
      "Enter a number: 91\n",
      "91 is not a strong number.\n"
     ]
    }
   ],
   "source": [
    "# Function to calculate the factorial of a number\n",
    "def factorial(num):\n",
    "    if num == 0:\n",
    "        return 1\n",
    "    else:\n",
    "        return num * factorial(num - 1)\n",
    "\n",
    "# Function to check if a number is a strong number\n",
    "def is_strong_number(number):\n",
    "    original_number = number\n",
    "    digit_sum = 0\n",
    "\n",
    "    while number > 0:\n",
    "        digit = number % 10\n",
    "        digit_sum += factorial(digit)\n",
    "        number //= 10\n",
    "\n",
    "    return digit_sum == original_number\n",
    "\n",
    "# Input a number from the user\n",
    "number = int(input(\"Enter a number: \"))\n",
    "\n",
    "# Check if the number is a strong number\n",
    "if is_strong_number(number):\n",
    "    print(f\"{number} is a strong number.\")\n",
    "else:\n",
    "    print(f\"{number} is not a strong number.\")\n"
   ]
  },
  {
   "cell_type": "code",
   "execution_count": 12,
   "id": "697177ff",
   "metadata": {},
   "outputs": [
    {
     "name": "stdout",
     "output_type": "stream",
     "text": [
      "Enter the base number: 78\n",
      "Enter the exponent (power): 2\n",
      "78.0 raised to the power of 2.0 is equal to 6084.0\n"
     ]
    }
   ],
   "source": [
    "# Input two numbers from the user\n",
    "base = float(input(\"Enter the base number: \"))\n",
    "exponent = float(input(\"Enter the exponent (power): \"))\n",
    "\n",
    "# Calculate the result\n",
    "result = base ** exponent\n",
    "\n",
    "# Display the result\n",
    "print(f\"{base} raised to the power of {exponent} is equal to {result}\")\n"
   ]
  },
  {
   "cell_type": "code",
   "execution_count": null,
   "id": "7759b0a2",
   "metadata": {},
   "outputs": [],
   "source": []
  }
 ],
 "metadata": {
  "kernelspec": {
   "display_name": "Python 3 (ipykernel)",
   "language": "python",
   "name": "python3"
  },
  "language_info": {
   "codemirror_mode": {
    "name": "ipython",
    "version": 3
   },
   "file_extension": ".py",
   "mimetype": "text/x-python",
   "name": "python",
   "nbconvert_exporter": "python",
   "pygments_lexer": "ipython3",
   "version": "3.11.4"
  }
 },
 "nbformat": 4,
 "nbformat_minor": 5
}
